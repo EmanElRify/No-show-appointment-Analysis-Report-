{
 "cells": [
  {
   "cell_type": "markdown",
   "id": "other-astrology",
   "metadata": {},
   "source": [
    "# Project: No-show appointments\n"
   ]
  },
  {
   "cell_type": "markdown",
   "id": "sunrise-optimum",
   "metadata": {},
   "source": [
    "\n",
    "<img src=\"patient.jpg\" alt=\"doctor and patient\"\n",
    "\ttitle=\"Examiation\" style=\"width:1400px; height:300px;\" />"
   ]
  },
  {
   "cell_type": "markdown",
   "id": "adequate-excerpt",
   "metadata": {},
   "source": [
    "## Table of Contents\n",
    "<ul>\n",
    "<li><a href=\"#intro\">Introduction</a></li>\n",
    "<li><a href=\"#wrangling\">Data Wrangling</a></li>\n",
    "<li><a href=\"#eda\">Exploratory Data Analysis</a></li>\n",
    "<li><a href=\"#conclusions\">Conclusions</a></li>\n",
    "</ul>"
   ]
  },
  {
   "cell_type": "markdown",
   "id": "split-consciousness",
   "metadata": {},
   "source": [
    "<a id='intro'></a>\n",
    "## Introduction\n",
    "> This **dataset** collects information from about **100-thousand medical appointments** in Brazil. It includes 14 associated variables. Variable names are self-explanatory. The analysis is going around **the factors why patients may not show up for their appointments and how to make a prediction about that.** Analysis is done on **the correlations between (Diabetes, Handicap, Alcholism and Hipertension)** and **whether they are correlated with age or not.** Also, answering the quesion of **what patients with scholarships usually suffer from.** Data visualization methods ,such as; histograms and pie charts, are used for convenient analysis and communication. Also,clear and tidy tables are provided in the analysis and conclusion sections. \n",
    "\n",
    ">> - **Note**:\n",
    ">>   - *ScheduledDay*: The day the patient set up their appointment.\n",
    ">>   - *AppointmentDay*: The day of the actuall appointment, when they have to visit the doctor.\n",
    ">>   - *Scholarship* (a broad topic) : a subsidy given for very low-income families and one of its requirements is to have their children going to school. For more information check the link: <A href=\"https://en.wikipedia.org/wiki/Bolsa_Fam%C3%ADlia\"\n",
    "       title=\"Go to Wikipedia.\">Bolsa Família</A>. "
   ]
  },
  {
   "cell_type": "code",
   "execution_count": null,
   "id": "sharp-myanmar",
   "metadata": {},
   "outputs": [],
   "source": [
    "#importing libraries for data analysis and visualization\n",
    "import numpy as np\n",
    "import pandas as pd\n",
    "import matplotlib.pyplot as plt\n",
    "import datetime\n",
    "%matplotlib inline "
   ]
  },
  {
   "cell_type": "markdown",
   "id": "affecting-iraqi",
   "metadata": {},
   "source": [
    "<a id='wrangling'></a>\n",
    "## Data Wrangling\n",
    "### General Properties"
   ]
  },
  {
   "cell_type": "code",
   "execution_count": 1,
   "id": "remarkable-cosmetic",
   "metadata": {
    "scrolled": true
   },
   "outputs": [
    {
     "ename": "NameError",
     "evalue": "name 'pd' is not defined",
     "output_type": "error",
     "traceback": [
      "\u001b[1;31m---------------------------------------------------------------------------\u001b[0m",
      "\u001b[1;31mNameError\u001b[0m                                 Traceback (most recent call last)",
      "Cell \u001b[1;32mIn[1], line 2\u001b[0m\n\u001b[0;32m      1\u001b[0m \u001b[38;5;66;03m#loading the data\u001b[39;00m\n\u001b[1;32m----> 2\u001b[0m df \u001b[38;5;241m=\u001b[39m \u001b[43mpd\u001b[49m\u001b[38;5;241m.\u001b[39mread_csv(\u001b[38;5;124m'\u001b[39m\u001b[38;5;124mnoshowappointments-kagglev2-may-2016.csv\u001b[39m\u001b[38;5;124m'\u001b[39m)\n\u001b[0;32m      3\u001b[0m \u001b[38;5;66;03m# data inspection\u001b[39;00m\n\u001b[0;32m      4\u001b[0m df\u001b[38;5;241m.\u001b[39mhead(\u001b[38;5;241m6\u001b[39m)\n",
      "\u001b[1;31mNameError\u001b[0m: name 'pd' is not defined"
     ]
    }
   ],
   "source": [
    "#loading the data\n",
    "df = pd.read_csv('noshowappointments-kagglev2-may-2016.csv')\n",
    "# data inspection\n",
    "df.head(6)"
   ]
  },
  {
   "cell_type": "markdown",
   "id": "e59475bb",
   "metadata": {},
   "source": []
  },
  {
   "cell_type": "markdown",
   "id": "permanent-participation",
   "metadata": {},
   "source": [
    "- **At first glance:**\n",
    " - The data type of PatientId and AppointmentID is numeric.\n",
    " - The ScheduledDay and AppointmentDay are ambiguous.\n",
    " - No-show column has string data type"
   ]
  },
  {
   "cell_type": "code",
   "execution_count": 537,
   "id": "demonstrated-serum",
   "metadata": {},
   "outputs": [
    {
     "data": {
      "text/plain": [
       "(110527, 14)"
      ]
     },
     "execution_count": 537,
     "metadata": {},
     "output_type": "execute_result"
    }
   ],
   "source": [
    "#the data shape\n",
    "df.shape"
   ]
  },
  {
   "cell_type": "code",
   "execution_count": 538,
   "id": "postal-morocco",
   "metadata": {
    "scrolled": true
   },
   "outputs": [
    {
     "data": {
      "text/html": [
       "<div>\n",
       "<style scoped>\n",
       "    .dataframe tbody tr th:only-of-type {\n",
       "        vertical-align: middle;\n",
       "    }\n",
       "\n",
       "    .dataframe tbody tr th {\n",
       "        vertical-align: top;\n",
       "    }\n",
       "\n",
       "    .dataframe thead th {\n",
       "        text-align: right;\n",
       "    }\n",
       "</style>\n",
       "<table border=\"1\" class=\"dataframe\">\n",
       "  <thead>\n",
       "    <tr style=\"text-align: right;\">\n",
       "      <th></th>\n",
       "      <th>PatientId</th>\n",
       "      <th>AppointmentID</th>\n",
       "      <th>Age</th>\n",
       "      <th>Scholarship</th>\n",
       "      <th>Hipertension</th>\n",
       "      <th>Diabetes</th>\n",
       "      <th>Alcoholism</th>\n",
       "      <th>Handcap</th>\n",
       "      <th>SMS_received</th>\n",
       "    </tr>\n",
       "  </thead>\n",
       "  <tbody>\n",
       "    <tr>\n",
       "      <th>count</th>\n",
       "      <td>1.105270e+05</td>\n",
       "      <td>1.105270e+05</td>\n",
       "      <td>110527.000000</td>\n",
       "      <td>110527.000000</td>\n",
       "      <td>110527.000000</td>\n",
       "      <td>110527.000000</td>\n",
       "      <td>110527.000000</td>\n",
       "      <td>110527.000000</td>\n",
       "      <td>110527.000000</td>\n",
       "    </tr>\n",
       "    <tr>\n",
       "      <th>mean</th>\n",
       "      <td>1.474963e+14</td>\n",
       "      <td>5.675305e+06</td>\n",
       "      <td>37.088874</td>\n",
       "      <td>0.098266</td>\n",
       "      <td>0.197246</td>\n",
       "      <td>0.071865</td>\n",
       "      <td>0.030400</td>\n",
       "      <td>0.022248</td>\n",
       "      <td>0.321026</td>\n",
       "    </tr>\n",
       "    <tr>\n",
       "      <th>std</th>\n",
       "      <td>2.560949e+14</td>\n",
       "      <td>7.129575e+04</td>\n",
       "      <td>23.110205</td>\n",
       "      <td>0.297675</td>\n",
       "      <td>0.397921</td>\n",
       "      <td>0.258265</td>\n",
       "      <td>0.171686</td>\n",
       "      <td>0.161543</td>\n",
       "      <td>0.466873</td>\n",
       "    </tr>\n",
       "    <tr>\n",
       "      <th>min</th>\n",
       "      <td>3.921784e+04</td>\n",
       "      <td>5.030230e+06</td>\n",
       "      <td>-1.000000</td>\n",
       "      <td>0.000000</td>\n",
       "      <td>0.000000</td>\n",
       "      <td>0.000000</td>\n",
       "      <td>0.000000</td>\n",
       "      <td>0.000000</td>\n",
       "      <td>0.000000</td>\n",
       "    </tr>\n",
       "    <tr>\n",
       "      <th>25%</th>\n",
       "      <td>4.172614e+12</td>\n",
       "      <td>5.640286e+06</td>\n",
       "      <td>18.000000</td>\n",
       "      <td>0.000000</td>\n",
       "      <td>0.000000</td>\n",
       "      <td>0.000000</td>\n",
       "      <td>0.000000</td>\n",
       "      <td>0.000000</td>\n",
       "      <td>0.000000</td>\n",
       "    </tr>\n",
       "    <tr>\n",
       "      <th>50%</th>\n",
       "      <td>3.173184e+13</td>\n",
       "      <td>5.680573e+06</td>\n",
       "      <td>37.000000</td>\n",
       "      <td>0.000000</td>\n",
       "      <td>0.000000</td>\n",
       "      <td>0.000000</td>\n",
       "      <td>0.000000</td>\n",
       "      <td>0.000000</td>\n",
       "      <td>0.000000</td>\n",
       "    </tr>\n",
       "    <tr>\n",
       "      <th>75%</th>\n",
       "      <td>9.439172e+13</td>\n",
       "      <td>5.725524e+06</td>\n",
       "      <td>55.000000</td>\n",
       "      <td>0.000000</td>\n",
       "      <td>0.000000</td>\n",
       "      <td>0.000000</td>\n",
       "      <td>0.000000</td>\n",
       "      <td>0.000000</td>\n",
       "      <td>1.000000</td>\n",
       "    </tr>\n",
       "    <tr>\n",
       "      <th>max</th>\n",
       "      <td>9.999816e+14</td>\n",
       "      <td>5.790484e+06</td>\n",
       "      <td>115.000000</td>\n",
       "      <td>1.000000</td>\n",
       "      <td>1.000000</td>\n",
       "      <td>1.000000</td>\n",
       "      <td>1.000000</td>\n",
       "      <td>4.000000</td>\n",
       "      <td>1.000000</td>\n",
       "    </tr>\n",
       "  </tbody>\n",
       "</table>\n",
       "</div>"
      ],
      "text/plain": [
       "          PatientId  AppointmentID            Age    Scholarship  \\\n",
       "count  1.105270e+05   1.105270e+05  110527.000000  110527.000000   \n",
       "mean   1.474963e+14   5.675305e+06      37.088874       0.098266   \n",
       "std    2.560949e+14   7.129575e+04      23.110205       0.297675   \n",
       "min    3.921784e+04   5.030230e+06      -1.000000       0.000000   \n",
       "25%    4.172614e+12   5.640286e+06      18.000000       0.000000   \n",
       "50%    3.173184e+13   5.680573e+06      37.000000       0.000000   \n",
       "75%    9.439172e+13   5.725524e+06      55.000000       0.000000   \n",
       "max    9.999816e+14   5.790484e+06     115.000000       1.000000   \n",
       "\n",
       "        Hipertension       Diabetes     Alcoholism        Handcap  \\\n",
       "count  110527.000000  110527.000000  110527.000000  110527.000000   \n",
       "mean        0.197246       0.071865       0.030400       0.022248   \n",
       "std         0.397921       0.258265       0.171686       0.161543   \n",
       "min         0.000000       0.000000       0.000000       0.000000   \n",
       "25%         0.000000       0.000000       0.000000       0.000000   \n",
       "50%         0.000000       0.000000       0.000000       0.000000   \n",
       "75%         0.000000       0.000000       0.000000       0.000000   \n",
       "max         1.000000       1.000000       1.000000       4.000000   \n",
       "\n",
       "        SMS_received  \n",
       "count  110527.000000  \n",
       "mean        0.321026  \n",
       "std         0.466873  \n",
       "min         0.000000  \n",
       "25%         0.000000  \n",
       "50%         0.000000  \n",
       "75%         1.000000  \n",
       "max         1.000000  "
      ]
     },
     "execution_count": 538,
     "metadata": {},
     "output_type": "execute_result"
    }
   ],
   "source": [
    "#describe summary\n",
    "df.describe()"
   ]
  },
  {
   "cell_type": "markdown",
   "id": "incoming-stanley",
   "metadata": {},
   "source": [
    "- There is a negative value for the Age \n",
    "- Handcap column has a value of 4 "
   ]
  },
  {
   "cell_type": "code",
   "execution_count": 539,
   "id": "uniform-setting",
   "metadata": {},
   "outputs": [
    {
     "data": {
      "text/html": [
       "<div>\n",
       "<style scoped>\n",
       "    .dataframe tbody tr th:only-of-type {\n",
       "        vertical-align: middle;\n",
       "    }\n",
       "\n",
       "    .dataframe tbody tr th {\n",
       "        vertical-align: top;\n",
       "    }\n",
       "\n",
       "    .dataframe thead th {\n",
       "        text-align: right;\n",
       "    }\n",
       "</style>\n",
       "<table border=\"1\" class=\"dataframe\">\n",
       "  <thead>\n",
       "    <tr style=\"text-align: right;\">\n",
       "      <th></th>\n",
       "      <th>PatientId</th>\n",
       "      <th>AppointmentID</th>\n",
       "      <th>Gender</th>\n",
       "      <th>ScheduledDay</th>\n",
       "      <th>AppointmentDay</th>\n",
       "      <th>Age</th>\n",
       "      <th>Neighbourhood</th>\n",
       "      <th>Scholarship</th>\n",
       "      <th>Hipertension</th>\n",
       "      <th>Diabetes</th>\n",
       "      <th>Alcoholism</th>\n",
       "      <th>Handcap</th>\n",
       "      <th>SMS_received</th>\n",
       "      <th>No-show</th>\n",
       "    </tr>\n",
       "  </thead>\n",
       "  <tbody>\n",
       "    <tr>\n",
       "      <th>99832</th>\n",
       "      <td>4.659432e+14</td>\n",
       "      <td>5775010</td>\n",
       "      <td>F</td>\n",
       "      <td>2016-06-06T08:58:13Z</td>\n",
       "      <td>2016-06-06T00:00:00Z</td>\n",
       "      <td>-1</td>\n",
       "      <td>ROMÃO</td>\n",
       "      <td>0</td>\n",
       "      <td>0</td>\n",
       "      <td>0</td>\n",
       "      <td>0</td>\n",
       "      <td>0</td>\n",
       "      <td>0</td>\n",
       "      <td>No</td>\n",
       "    </tr>\n",
       "  </tbody>\n",
       "</table>\n",
       "</div>"
      ],
      "text/plain": [
       "          PatientId  AppointmentID Gender          ScheduledDay  \\\n",
       "99832  4.659432e+14        5775010      F  2016-06-06T08:58:13Z   \n",
       "\n",
       "             AppointmentDay  Age Neighbourhood  Scholarship  Hipertension  \\\n",
       "99832  2016-06-06T00:00:00Z   -1         ROMÃO            0             0   \n",
       "\n",
       "       Diabetes  Alcoholism  Handcap  SMS_received No-show  \n",
       "99832         0           0        0             0      No  "
      ]
     },
     "execution_count": 539,
     "metadata": {},
     "output_type": "execute_result"
    }
   ],
   "source": [
    "#looking for unreasonable data (Age)\n",
    "df[df.Age<0]"
   ]
  },
  {
   "cell_type": "code",
   "execution_count": 540,
   "id": "local-jacob",
   "metadata": {},
   "outputs": [
    {
     "data": {
      "text/html": [
       "<div>\n",
       "<style scoped>\n",
       "    .dataframe tbody tr th:only-of-type {\n",
       "        vertical-align: middle;\n",
       "    }\n",
       "\n",
       "    .dataframe tbody tr th {\n",
       "        vertical-align: top;\n",
       "    }\n",
       "\n",
       "    .dataframe thead th {\n",
       "        text-align: right;\n",
       "    }\n",
       "</style>\n",
       "<table border=\"1\" class=\"dataframe\">\n",
       "  <thead>\n",
       "    <tr style=\"text-align: right;\">\n",
       "      <th></th>\n",
       "      <th>PatientId</th>\n",
       "      <th>AppointmentID</th>\n",
       "      <th>Gender</th>\n",
       "      <th>ScheduledDay</th>\n",
       "      <th>AppointmentDay</th>\n",
       "      <th>Age</th>\n",
       "      <th>Neighbourhood</th>\n",
       "      <th>Scholarship</th>\n",
       "      <th>Hipertension</th>\n",
       "      <th>Diabetes</th>\n",
       "      <th>Alcoholism</th>\n",
       "      <th>Handcap</th>\n",
       "      <th>SMS_received</th>\n",
       "      <th>No-show</th>\n",
       "    </tr>\n",
       "  </thead>\n",
       "  <tbody>\n",
       "    <tr>\n",
       "      <th>946</th>\n",
       "      <td>7.282582e+13</td>\n",
       "      <td>5582483</td>\n",
       "      <td>M</td>\n",
       "      <td>2016-04-14T09:26:08Z</td>\n",
       "      <td>2016-04-29T00:00:00Z</td>\n",
       "      <td>94</td>\n",
       "      <td>BELA VISTA</td>\n",
       "      <td>0</td>\n",
       "      <td>1</td>\n",
       "      <td>1</td>\n",
       "      <td>0</td>\n",
       "      <td>2</td>\n",
       "      <td>1</td>\n",
       "      <td>No</td>\n",
       "    </tr>\n",
       "    <tr>\n",
       "      <th>1665</th>\n",
       "      <td>1.242919e+13</td>\n",
       "      <td>5525497</td>\n",
       "      <td>M</td>\n",
       "      <td>2016-03-30T09:16:41Z</td>\n",
       "      <td>2016-04-29T00:00:00Z</td>\n",
       "      <td>64</td>\n",
       "      <td>SANTA MARTHA</td>\n",
       "      <td>0</td>\n",
       "      <td>1</td>\n",
       "      <td>0</td>\n",
       "      <td>1</td>\n",
       "      <td>2</td>\n",
       "      <td>1</td>\n",
       "      <td>No</td>\n",
       "    </tr>\n",
       "    <tr>\n",
       "      <th>1666</th>\n",
       "      <td>1.242919e+13</td>\n",
       "      <td>5525498</td>\n",
       "      <td>M</td>\n",
       "      <td>2016-03-30T09:16:41Z</td>\n",
       "      <td>2016-04-29T00:00:00Z</td>\n",
       "      <td>64</td>\n",
       "      <td>SANTA MARTHA</td>\n",
       "      <td>0</td>\n",
       "      <td>1</td>\n",
       "      <td>0</td>\n",
       "      <td>1</td>\n",
       "      <td>2</td>\n",
       "      <td>0</td>\n",
       "      <td>No</td>\n",
       "    </tr>\n",
       "    <tr>\n",
       "      <th>2071</th>\n",
       "      <td>1.242919e+13</td>\n",
       "      <td>5640120</td>\n",
       "      <td>M</td>\n",
       "      <td>2016-04-29T10:08:48Z</td>\n",
       "      <td>2016-04-29T00:00:00Z</td>\n",
       "      <td>64</td>\n",
       "      <td>SANTA MARTHA</td>\n",
       "      <td>0</td>\n",
       "      <td>1</td>\n",
       "      <td>0</td>\n",
       "      <td>1</td>\n",
       "      <td>2</td>\n",
       "      <td>0</td>\n",
       "      <td>No</td>\n",
       "    </tr>\n",
       "    <tr>\n",
       "      <th>2091</th>\n",
       "      <td>1.491829e+13</td>\n",
       "      <td>5638626</td>\n",
       "      <td>F</td>\n",
       "      <td>2016-04-29T08:13:59Z</td>\n",
       "      <td>2016-04-29T00:00:00Z</td>\n",
       "      <td>11</td>\n",
       "      <td>ANDORINHAS</td>\n",
       "      <td>0</td>\n",
       "      <td>0</td>\n",
       "      <td>0</td>\n",
       "      <td>0</td>\n",
       "      <td>2</td>\n",
       "      <td>0</td>\n",
       "      <td>No</td>\n",
       "    </tr>\n",
       "    <tr>\n",
       "      <th>...</th>\n",
       "      <td>...</td>\n",
       "      <td>...</td>\n",
       "      <td>...</td>\n",
       "      <td>...</td>\n",
       "      <td>...</td>\n",
       "      <td>...</td>\n",
       "      <td>...</td>\n",
       "      <td>...</td>\n",
       "      <td>...</td>\n",
       "      <td>...</td>\n",
       "      <td>...</td>\n",
       "      <td>...</td>\n",
       "      <td>...</td>\n",
       "      <td>...</td>\n",
       "    </tr>\n",
       "    <tr>\n",
       "      <th>108376</th>\n",
       "      <td>2.387212e+14</td>\n",
       "      <td>5756931</td>\n",
       "      <td>F</td>\n",
       "      <td>2016-06-01T08:48:28Z</td>\n",
       "      <td>2016-06-07T00:00:00Z</td>\n",
       "      <td>44</td>\n",
       "      <td>ROMÃO</td>\n",
       "      <td>0</td>\n",
       "      <td>1</td>\n",
       "      <td>1</td>\n",
       "      <td>0</td>\n",
       "      <td>2</td>\n",
       "      <td>1</td>\n",
       "      <td>No</td>\n",
       "    </tr>\n",
       "    <tr>\n",
       "      <th>109484</th>\n",
       "      <td>3.589495e+14</td>\n",
       "      <td>5752442</td>\n",
       "      <td>M</td>\n",
       "      <td>2016-05-31T11:45:57Z</td>\n",
       "      <td>2016-06-02T00:00:00Z</td>\n",
       "      <td>64</td>\n",
       "      <td>DA PENHA</td>\n",
       "      <td>0</td>\n",
       "      <td>1</td>\n",
       "      <td>1</td>\n",
       "      <td>0</td>\n",
       "      <td>2</td>\n",
       "      <td>0</td>\n",
       "      <td>No</td>\n",
       "    </tr>\n",
       "    <tr>\n",
       "      <th>109733</th>\n",
       "      <td>5.662976e+14</td>\n",
       "      <td>5772744</td>\n",
       "      <td>F</td>\n",
       "      <td>2016-06-03T16:11:00Z</td>\n",
       "      <td>2016-06-07T00:00:00Z</td>\n",
       "      <td>34</td>\n",
       "      <td>JUCUTUQUARA</td>\n",
       "      <td>0</td>\n",
       "      <td>0</td>\n",
       "      <td>0</td>\n",
       "      <td>0</td>\n",
       "      <td>2</td>\n",
       "      <td>1</td>\n",
       "      <td>No</td>\n",
       "    </tr>\n",
       "    <tr>\n",
       "      <th>109975</th>\n",
       "      <td>4.522185e+13</td>\n",
       "      <td>5766970</td>\n",
       "      <td>M</td>\n",
       "      <td>2016-06-02T16:07:36Z</td>\n",
       "      <td>2016-06-06T00:00:00Z</td>\n",
       "      <td>39</td>\n",
       "      <td>PRAIA DO SUÁ</td>\n",
       "      <td>1</td>\n",
       "      <td>0</td>\n",
       "      <td>0</td>\n",
       "      <td>0</td>\n",
       "      <td>2</td>\n",
       "      <td>1</td>\n",
       "      <td>No</td>\n",
       "    </tr>\n",
       "    <tr>\n",
       "      <th>110107</th>\n",
       "      <td>7.143714e+14</td>\n",
       "      <td>5761625</td>\n",
       "      <td>F</td>\n",
       "      <td>2016-06-02T06:44:00Z</td>\n",
       "      <td>2016-06-06T00:00:00Z</td>\n",
       "      <td>44</td>\n",
       "      <td>RESISTÊNCIA</td>\n",
       "      <td>0</td>\n",
       "      <td>0</td>\n",
       "      <td>0</td>\n",
       "      <td>0</td>\n",
       "      <td>2</td>\n",
       "      <td>1</td>\n",
       "      <td>No</td>\n",
       "    </tr>\n",
       "  </tbody>\n",
       "</table>\n",
       "<p>199 rows × 14 columns</p>\n",
       "</div>"
      ],
      "text/plain": [
       "           PatientId  AppointmentID Gender          ScheduledDay  \\\n",
       "946     7.282582e+13        5582483      M  2016-04-14T09:26:08Z   \n",
       "1665    1.242919e+13        5525497      M  2016-03-30T09:16:41Z   \n",
       "1666    1.242919e+13        5525498      M  2016-03-30T09:16:41Z   \n",
       "2071    1.242919e+13        5640120      M  2016-04-29T10:08:48Z   \n",
       "2091    1.491829e+13        5638626      F  2016-04-29T08:13:59Z   \n",
       "...              ...            ...    ...                   ...   \n",
       "108376  2.387212e+14        5756931      F  2016-06-01T08:48:28Z   \n",
       "109484  3.589495e+14        5752442      M  2016-05-31T11:45:57Z   \n",
       "109733  5.662976e+14        5772744      F  2016-06-03T16:11:00Z   \n",
       "109975  4.522185e+13        5766970      M  2016-06-02T16:07:36Z   \n",
       "110107  7.143714e+14        5761625      F  2016-06-02T06:44:00Z   \n",
       "\n",
       "              AppointmentDay  Age Neighbourhood  Scholarship  Hipertension  \\\n",
       "946     2016-04-29T00:00:00Z   94    BELA VISTA            0             1   \n",
       "1665    2016-04-29T00:00:00Z   64  SANTA MARTHA            0             1   \n",
       "1666    2016-04-29T00:00:00Z   64  SANTA MARTHA            0             1   \n",
       "2071    2016-04-29T00:00:00Z   64  SANTA MARTHA            0             1   \n",
       "2091    2016-04-29T00:00:00Z   11    ANDORINHAS            0             0   \n",
       "...                      ...  ...           ...          ...           ...   \n",
       "108376  2016-06-07T00:00:00Z   44         ROMÃO            0             1   \n",
       "109484  2016-06-02T00:00:00Z   64      DA PENHA            0             1   \n",
       "109733  2016-06-07T00:00:00Z   34   JUCUTUQUARA            0             0   \n",
       "109975  2016-06-06T00:00:00Z   39  PRAIA DO SUÁ            1             0   \n",
       "110107  2016-06-06T00:00:00Z   44   RESISTÊNCIA            0             0   \n",
       "\n",
       "        Diabetes  Alcoholism  Handcap  SMS_received No-show  \n",
       "946            1           0        2             1      No  \n",
       "1665           0           1        2             1      No  \n",
       "1666           0           1        2             0      No  \n",
       "2071           0           1        2             0      No  \n",
       "2091           0           0        2             0      No  \n",
       "...          ...         ...      ...           ...     ...  \n",
       "108376         1           0        2             1      No  \n",
       "109484         1           0        2             0      No  \n",
       "109733         0           0        2             1      No  \n",
       "109975         0           0        2             1      No  \n",
       "110107         0           0        2             1      No  \n",
       "\n",
       "[199 rows x 14 columns]"
      ]
     },
     "execution_count": 540,
     "metadata": {},
     "output_type": "execute_result"
    }
   ],
   "source": [
    "#looking for unreasonable data (Handcap)\n",
    "df[df.Handcap>1]"
   ]
  },
  {
   "cell_type": "code",
   "execution_count": 541,
   "id": "thermal-mapping",
   "metadata": {},
   "outputs": [
    {
     "data": {
      "text/plain": [
       "199"
      ]
     },
     "execution_count": 541,
     "metadata": {},
     "output_type": "execute_result"
    }
   ],
   "source": [
    "#number of rows for ambiguous Handcap values\n",
    "df[df.Handcap>1].shape[0]"
   ]
  },
  {
   "cell_type": "markdown",
   "id": "severe-invite",
   "metadata": {},
   "source": [
    "We would drop those 199 rows"
   ]
  },
  {
   "cell_type": "markdown",
   "id": "domestic-purchase",
   "metadata": {},
   "source": [
    "### Make sure that other categorial data is clean."
   ]
  },
  {
   "cell_type": "code",
   "execution_count": 542,
   "id": "racial-gabriel",
   "metadata": {},
   "outputs": [
    {
     "data": {
      "text/plain": [
       "array(['No', 'Yes'], dtype=object)"
      ]
     },
     "execution_count": 542,
     "metadata": {},
     "output_type": "execute_result"
    }
   ],
   "source": [
    "df[\"No-show\"].unique()"
   ]
  },
  {
   "cell_type": "code",
   "execution_count": 543,
   "id": "grave-attitude",
   "metadata": {},
   "outputs": [
    {
     "data": {
      "text/plain": [
       "array(['F', 'M'], dtype=object)"
      ]
     },
     "execution_count": 543,
     "metadata": {},
     "output_type": "execute_result"
    }
   ],
   "source": [
    "\n",
    "df[\"Gender\"].unique()"
   ]
  },
  {
   "cell_type": "code",
   "execution_count": null,
   "id": "beginning-developer",
   "metadata": {
    "scrolled": true
   },
   "outputs": [
    {
     "name": "stdout",
     "output_type": "stream",
     "text": [
      "<class 'pandas.core.frame.DataFrame'>\n",
      "RangeIndex: 110527 entries, 0 to 110526\n",
      "Data columns (total 14 columns):\n",
      " #   Column          Non-Null Count   Dtype  \n",
      "---  ------          --------------   -----  \n",
      " 0   PatientId       110527 non-null  float64\n",
      " 1   AppointmentID   110527 non-null  int64  \n",
      " 2   Gender          110527 non-null  object \n",
      " 3   ScheduledDay    110527 non-null  object \n",
      " 4   AppointmentDay  110527 non-null  object \n",
      " 5   Age             110527 non-null  int64  \n",
      " 6   Neighbourhood   110527 non-null  object \n",
      " 7   Scholarship     110527 non-null  int64  \n",
      " 8   Hipertension    110527 non-null  int64  \n",
      " 9   Diabetes        110527 non-null  int64  \n",
      " 10  Alcoholism      110527 non-null  int64  \n",
      " 11  Handcap         110527 non-null  int64  \n",
      " 12  SMS_received    110527 non-null  int64  \n",
      " 13  No-show         110527 non-null  object \n",
      "dtypes: float64(1), int64(8), object(5)\n",
      "memory usage: 11.8+ MB\n"
     ]
    }
   ],
   "source": [
    "#looking foe null-value cells\n",
    "df.info()\n",
    "# object = str"
   ]
  },
  {
   "cell_type": "markdown",
   "id": "royal-pottery",
   "metadata": {},
   "source": [
    "- There is no null value in the dataset\n",
    "- The data type of ScheduledDay AppointmentDay is string"
   ]
  },
  {
   "cell_type": "markdown",
   "id": "located-lancaster",
   "metadata": {},
   "source": [
    "#### Search for duplicate rows"
   ]
  },
  {
   "cell_type": "code",
   "execution_count": 545,
   "id": "peripheral-cincinnati",
   "metadata": {},
   "outputs": [
    {
     "data": {
      "text/plain": [
       "0"
      ]
     },
     "execution_count": 545,
     "metadata": {},
     "output_type": "execute_result"
    }
   ],
   "source": [
    "sum(df.duplicated())"
   ]
  },
  {
   "cell_type": "markdown",
   "id": "worldwide-gambling",
   "metadata": {},
   "source": [
    "\n",
    "#### Results for EDA:\n",
    "\n",
    "    1- 32.1% of the patients recieved a reminder message\n",
    "  \n",
    "    2- Most patients are between 18 and 55 years old\n",
    "    \n",
    " \n",
    "    \n",
    "    \n",
    "    \n"
   ]
  },
  {
   "cell_type": "markdown",
   "id": "structured-prevention",
   "metadata": {},
   "source": [
    "|  <h3>Notes for cleaning</h3>    |  <h3> Process  </h3> |\n",
    "|:------|:------|\n",
    "| The data type of the two columns PatientId and AppointmentID are quantitative. |**Drop them anyway**|\n",
    "| The data type of ScheduledDay and AppointmentDay is string(object)|**Convert to datetime data type**|\n",
    "| The data of ScheduledDay or AppointmentDay doesn't provide much information individually | **Add a column with a comparison**|\n",
    "| The datetime data type is not convenient in processing | **Add more column \"Scheduled_DayOfWeek\"**|\n",
    "| There is a negative value in the age column | **Drop the row of negative values** |\n",
    "| No-show column has string data type| **Replace \"No\" with False and \"Yes\" with True** |\n",
    "|Handcap column has values greater than 1| **Drop the rows**|\n",
    "| The column label : \"No-show\" is not convenient for coding| **Replace it with \"No_show\"**|"
   ]
  },
  {
   "cell_type": "code",
   "execution_count": 546,
   "id": "meaning-mexican",
   "metadata": {},
   "outputs": [
    {
     "data": {
      "image/png": "[encoded data removed]",
      "text/plain": [
       "<Figure size 576x576 with 9 Axes>"
      ]
     },
     "metadata": {
      "needs_background": "light"
     },
     "output_type": "display_data"
    }
   ],
   "source": [
    "df.hist(figsize=(8,8));"
   ]
  },
  {
   "cell_type": "markdown",
   "id": "biological-smell",
   "metadata": {},
   "source": [
    "### Dropping unreasonable data "
   ]
  },
  {
   "cell_type": "markdown",
   "id": "sunrise-globe",
   "metadata": {},
   "source": [
    "#### Drop rows with negative age values"
   ]
  },
  {
   "cell_type": "code",
   "execution_count": 547,
   "id": "congressional-lightning",
   "metadata": {},
   "outputs": [],
   "source": [
    "df.drop(df[df.Age<0].index,inplace=True)"
   ]
  },
  {
   "cell_type": "code",
   "execution_count": 548,
   "id": "insured-paraguay",
   "metadata": {},
   "outputs": [
    {
     "data": {
      "text/plain": [
       "0"
      ]
     },
     "execution_count": 548,
     "metadata": {},
     "output_type": "execute_result"
    }
   ],
   "source": [
    "#check\n",
    "sum(df[df.Age<0].index)"
   ]
  },
  {
   "cell_type": "markdown",
   "id": "going-volleyball",
   "metadata": {},
   "source": [
    "#### Drop rows with values greater than 1 for Handcap column"
   ]
  },
  {
   "cell_type": "code",
   "execution_count": 549,
   "id": "ecological-anthony",
   "metadata": {},
   "outputs": [],
   "source": [
    "df.drop(df[df.Handcap>1].index,inplace=True)"
   ]
  },
  {
   "cell_type": "code",
   "execution_count": 550,
   "id": "western-exhibit",
   "metadata": {},
   "outputs": [
    {
     "data": {
      "text/plain": [
       "0"
      ]
     },
     "execution_count": 550,
     "metadata": {},
     "output_type": "execute_result"
    }
   ],
   "source": [
    "#check\n",
    "sum(df[df.Handcap>1].index)"
   ]
  },
  {
   "cell_type": "markdown",
   "id": "sacred-surge",
   "metadata": {},
   "source": [
    "#### Drop extraneous columns"
   ]
  },
  {
   "cell_type": "code",
   "execution_count": 551,
   "id": "genetic-humanitarian",
   "metadata": {},
   "outputs": [],
   "source": [
    "df.drop(['PatientId','AppointmentID'],axis=1,inplace=True)"
   ]
  },
  {
   "cell_type": "code",
   "execution_count": 552,
   "id": "backed-recovery",
   "metadata": {},
   "outputs": [
    {
     "data": {
      "text/html": [
       "<div>\n",
       "<style scoped>\n",
       "    .dataframe tbody tr th:only-of-type {\n",
       "        vertical-align: middle;\n",
       "    }\n",
       "\n",
       "    .dataframe tbody tr th {\n",
       "        vertical-align: top;\n",
       "    }\n",
       "\n",
       "    .dataframe thead th {\n",
       "        text-align: right;\n",
       "    }\n",
       "</style>\n",
       "<table border=\"1\" class=\"dataframe\">\n",
       "  <thead>\n",
       "    <tr style=\"text-align: right;\">\n",
       "      <th></th>\n",
       "      <th>Gender</th>\n",
       "      <th>ScheduledDay</th>\n",
       "      <th>AppointmentDay</th>\n",
       "      <th>Age</th>\n",
       "      <th>Neighbourhood</th>\n",
       "      <th>Scholarship</th>\n",
       "      <th>Hipertension</th>\n",
       "      <th>Diabetes</th>\n",
       "      <th>Alcoholism</th>\n",
       "      <th>Handcap</th>\n",
       "      <th>SMS_received</th>\n",
       "      <th>No-show</th>\n",
       "    </tr>\n",
       "  </thead>\n",
       "  <tbody>\n",
       "    <tr>\n",
       "      <th>0</th>\n",
       "      <td>F</td>\n",
       "      <td>2016-04-29T18:38:08Z</td>\n",
       "      <td>2016-04-29T00:00:00Z</td>\n",
       "      <td>62</td>\n",
       "      <td>JARDIM DA PENHA</td>\n",
       "      <td>0</td>\n",
       "      <td>1</td>\n",
       "      <td>0</td>\n",
       "      <td>0</td>\n",
       "      <td>0</td>\n",
       "      <td>0</td>\n",
       "      <td>No</td>\n",
       "    </tr>\n",
       "    <tr>\n",
       "      <th>1</th>\n",
       "      <td>M</td>\n",
       "      <td>2016-04-29T16:08:27Z</td>\n",
       "      <td>2016-04-29T00:00:00Z</td>\n",
       "      <td>56</td>\n",
       "      <td>JARDIM DA PENHA</td>\n",
       "      <td>0</td>\n",
       "      <td>0</td>\n",
       "      <td>0</td>\n",
       "      <td>0</td>\n",
       "      <td>0</td>\n",
       "      <td>0</td>\n",
       "      <td>No</td>\n",
       "    </tr>\n",
       "    <tr>\n",
       "      <th>2</th>\n",
       "      <td>F</td>\n",
       "      <td>2016-04-29T16:19:04Z</td>\n",
       "      <td>2016-04-29T00:00:00Z</td>\n",
       "      <td>62</td>\n",
       "      <td>MATA DA PRAIA</td>\n",
       "      <td>0</td>\n",
       "      <td>0</td>\n",
       "      <td>0</td>\n",
       "      <td>0</td>\n",
       "      <td>0</td>\n",
       "      <td>0</td>\n",
       "      <td>No</td>\n",
       "    </tr>\n",
       "    <tr>\n",
       "      <th>3</th>\n",
       "      <td>F</td>\n",
       "      <td>2016-04-29T17:29:31Z</td>\n",
       "      <td>2016-04-29T00:00:00Z</td>\n",
       "      <td>8</td>\n",
       "      <td>PONTAL DE CAMBURI</td>\n",
       "      <td>0</td>\n",
       "      <td>0</td>\n",
       "      <td>0</td>\n",
       "      <td>0</td>\n",
       "      <td>0</td>\n",
       "      <td>0</td>\n",
       "      <td>No</td>\n",
       "    </tr>\n",
       "    <tr>\n",
       "      <th>4</th>\n",
       "      <td>F</td>\n",
       "      <td>2016-04-29T16:07:23Z</td>\n",
       "      <td>2016-04-29T00:00:00Z</td>\n",
       "      <td>56</td>\n",
       "      <td>JARDIM DA PENHA</td>\n",
       "      <td>0</td>\n",
       "      <td>1</td>\n",
       "      <td>1</td>\n",
       "      <td>0</td>\n",
       "      <td>0</td>\n",
       "      <td>0</td>\n",
       "      <td>No</td>\n",
       "    </tr>\n",
       "  </tbody>\n",
       "</table>\n",
       "</div>"
      ],
      "text/plain": [
       "  Gender          ScheduledDay        AppointmentDay  Age      Neighbourhood  \\\n",
       "0      F  2016-04-29T18:38:08Z  2016-04-29T00:00:00Z   62    JARDIM DA PENHA   \n",
       "1      M  2016-04-29T16:08:27Z  2016-04-29T00:00:00Z   56    JARDIM DA PENHA   \n",
       "2      F  2016-04-29T16:19:04Z  2016-04-29T00:00:00Z   62      MATA DA PRAIA   \n",
       "3      F  2016-04-29T17:29:31Z  2016-04-29T00:00:00Z    8  PONTAL DE CAMBURI   \n",
       "4      F  2016-04-29T16:07:23Z  2016-04-29T00:00:00Z   56    JARDIM DA PENHA   \n",
       "\n",
       "   Scholarship  Hipertension  Diabetes  Alcoholism  Handcap  SMS_received  \\\n",
       "0            0             1         0           0        0             0   \n",
       "1            0             0         0           0        0             0   \n",
       "2            0             0         0           0        0             0   \n",
       "3            0             0         0           0        0             0   \n",
       "4            0             1         1           0        0             0   \n",
       "\n",
       "  No-show  \n",
       "0      No  \n",
       "1      No  \n",
       "2      No  \n",
       "3      No  \n",
       "4      No  "
      ]
     },
     "execution_count": 552,
     "metadata": {},
     "output_type": "execute_result"
    }
   ],
   "source": [
    "#check\n",
    "df.head()"
   ]
  },
  {
   "cell_type": "code",
   "execution_count": 553,
   "id": "received-atlantic",
   "metadata": {},
   "outputs": [
    {
     "data": {
      "text/plain": [
       "(110327, 12)"
      ]
     },
     "execution_count": 553,
     "metadata": {},
     "output_type": "execute_result"
    }
   ],
   "source": [
    "df.shape"
   ]
  },
  {
   "cell_type": "markdown",
   "id": "flush-confidence",
   "metadata": {},
   "source": [
    "### Replacing values and Renaming labels"
   ]
  },
  {
   "cell_type": "markdown",
   "id": "stupid-arctic",
   "metadata": {},
   "source": [
    "#### Rename the column's label (\"No-show\") with (\"No_show\") and (\"ScheduledDay\") with (\"RegisterationDay\")"
   ]
  },
  {
   "cell_type": "code",
   "execution_count": 554,
   "id": "excess-crash",
   "metadata": {},
   "outputs": [],
   "source": [
    "df.rename(columns={'No-show':'No_show','ScheduledDay':'RegistrationDay','Handcap':'Handicap'},inplace=True)"
   ]
  },
  {
   "cell_type": "markdown",
   "id": "global-survivor",
   "metadata": {},
   "source": [
    "#### Replace \"Yes\" and \"No\" with boolean values"
   ]
  },
  {
   "cell_type": "code",
   "execution_count": 555,
   "id": "billion-concentrate",
   "metadata": {},
   "outputs": [],
   "source": [
    "df.No_show=df.No_show.replace({'No':0,'Yes':1})"
   ]
  },
  {
   "cell_type": "code",
   "execution_count": 556,
   "id": "induced-single",
   "metadata": {},
   "outputs": [
    {
     "data": {
      "text/plain": [
       "array([0, 1], dtype=int64)"
      ]
     },
     "execution_count": 556,
     "metadata": {},
     "output_type": "execute_result"
    }
   ],
   "source": [
    "#check\n",
    "df.No_show.unique()"
   ]
  },
  {
   "cell_type": "markdown",
   "id": "surrounded-recovery",
   "metadata": {},
   "source": [
    "### Dealing with the datetime data"
   ]
  },
  {
   "cell_type": "code",
   "execution_count": 557,
   "id": "rotary-fellow",
   "metadata": {},
   "outputs": [],
   "source": [
    "df.RegistrationDay = pd.to_datetime(df.RegistrationDay)\n",
    "df.AppointmentDay = pd.to_datetime(df.AppointmentDay)\n",
    "#reseting index\n",
    "df.reset_index(drop=True, inplace=True)"
   ]
  },
  {
   "cell_type": "code",
   "execution_count": 558,
   "id": "bulgarian-volleyball",
   "metadata": {},
   "outputs": [],
   "source": [
    "#We add a column with the scheduled DayOfWeek that carries numeric values from 0 to 6; 0 is for Sunday\n",
    "DayOfWeek=[]\n",
    "for x in range (0,len(df.RegistrationDay)):\n",
    "    y =df.RegistrationDay[x].strftime(\"%w\")\n",
    "    DayOfWeek.append(y)\n",
    "df['Registration_DayOfWeek']=DayOfWeek\n"
   ]
  },
  {
   "cell_type": "markdown",
   "id": "ranging-public",
   "metadata": {},
   "source": [
    "For Brazil the weekend days are Saturday 6 and Sunday 0"
   ]
  },
  {
   "cell_type": "code",
   "execution_count": 559,
   "id": "southeast-hello",
   "metadata": {},
   "outputs": [
    {
     "data": {
      "text/html": [
       "<div>\n",
       "<style scoped>\n",
       "    .dataframe tbody tr th:only-of-type {\n",
       "        vertical-align: middle;\n",
       "    }\n",
       "\n",
       "    .dataframe tbody tr th {\n",
       "        vertical-align: top;\n",
       "    }\n",
       "\n",
       "    .dataframe thead th {\n",
       "        text-align: right;\n",
       "    }\n",
       "</style>\n",
       "<table border=\"1\" class=\"dataframe\">\n",
       "  <thead>\n",
       "    <tr style=\"text-align: right;\">\n",
       "      <th></th>\n",
       "      <th>Gender</th>\n",
       "      <th>RegistrationDay</th>\n",
       "      <th>AppointmentDay</th>\n",
       "      <th>Age</th>\n",
       "      <th>Neighbourhood</th>\n",
       "      <th>Scholarship</th>\n",
       "      <th>Hipertension</th>\n",
       "      <th>Diabetes</th>\n",
       "      <th>Alcoholism</th>\n",
       "      <th>Handicap</th>\n",
       "      <th>SMS_received</th>\n",
       "      <th>No_show</th>\n",
       "      <th>Registration_DayOfWeek</th>\n",
       "    </tr>\n",
       "  </thead>\n",
       "  <tbody>\n",
       "    <tr>\n",
       "      <th>0</th>\n",
       "      <td>F</td>\n",
       "      <td>2016-04-29 18:38:08+00:00</td>\n",
       "      <td>2016-04-29 00:00:00+00:00</td>\n",
       "      <td>62</td>\n",
       "      <td>JARDIM DA PENHA</td>\n",
       "      <td>0</td>\n",
       "      <td>1</td>\n",
       "      <td>0</td>\n",
       "      <td>0</td>\n",
       "      <td>0</td>\n",
       "      <td>0</td>\n",
       "      <td>0</td>\n",
       "      <td>5</td>\n",
       "    </tr>\n",
       "    <tr>\n",
       "      <th>1</th>\n",
       "      <td>M</td>\n",
       "      <td>2016-04-29 16:08:27+00:00</td>\n",
       "      <td>2016-04-29 00:00:00+00:00</td>\n",
       "      <td>56</td>\n",
       "      <td>JARDIM DA PENHA</td>\n",
       "      <td>0</td>\n",
       "      <td>0</td>\n",
       "      <td>0</td>\n",
       "      <td>0</td>\n",
       "      <td>0</td>\n",
       "      <td>0</td>\n",
       "      <td>0</td>\n",
       "      <td>5</td>\n",
       "    </tr>\n",
       "    <tr>\n",
       "      <th>2</th>\n",
       "      <td>F</td>\n",
       "      <td>2016-04-29 16:19:04+00:00</td>\n",
       "      <td>2016-04-29 00:00:00+00:00</td>\n",
       "      <td>62</td>\n",
       "      <td>MATA DA PRAIA</td>\n",
       "      <td>0</td>\n",
       "      <td>0</td>\n",
       "      <td>0</td>\n",
       "      <td>0</td>\n",
       "      <td>0</td>\n",
       "      <td>0</td>\n",
       "      <td>0</td>\n",
       "      <td>5</td>\n",
       "    </tr>\n",
       "    <tr>\n",
       "      <th>3</th>\n",
       "      <td>F</td>\n",
       "      <td>2016-04-29 17:29:31+00:00</td>\n",
       "      <td>2016-04-29 00:00:00+00:00</td>\n",
       "      <td>8</td>\n",
       "      <td>PONTAL DE CAMBURI</td>\n",
       "      <td>0</td>\n",
       "      <td>0</td>\n",
       "      <td>0</td>\n",
       "      <td>0</td>\n",
       "      <td>0</td>\n",
       "      <td>0</td>\n",
       "      <td>0</td>\n",
       "      <td>5</td>\n",
       "    </tr>\n",
       "    <tr>\n",
       "      <th>4</th>\n",
       "      <td>F</td>\n",
       "      <td>2016-04-29 16:07:23+00:00</td>\n",
       "      <td>2016-04-29 00:00:00+00:00</td>\n",
       "      <td>56</td>\n",
       "      <td>JARDIM DA PENHA</td>\n",
       "      <td>0</td>\n",
       "      <td>1</td>\n",
       "      <td>1</td>\n",
       "      <td>0</td>\n",
       "      <td>0</td>\n",
       "      <td>0</td>\n",
       "      <td>0</td>\n",
       "      <td>5</td>\n",
       "    </tr>\n",
       "  </tbody>\n",
       "</table>\n",
       "</div>"
      ],
      "text/plain": [
       "  Gender           RegistrationDay            AppointmentDay  Age  \\\n",
       "0      F 2016-04-29 18:38:08+00:00 2016-04-29 00:00:00+00:00   62   \n",
       "1      M 2016-04-29 16:08:27+00:00 2016-04-29 00:00:00+00:00   56   \n",
       "2      F 2016-04-29 16:19:04+00:00 2016-04-29 00:00:00+00:00   62   \n",
       "3      F 2016-04-29 17:29:31+00:00 2016-04-29 00:00:00+00:00    8   \n",
       "4      F 2016-04-29 16:07:23+00:00 2016-04-29 00:00:00+00:00   56   \n",
       "\n",
       "       Neighbourhood  Scholarship  Hipertension  Diabetes  Alcoholism  \\\n",
       "0    JARDIM DA PENHA            0             1         0           0   \n",
       "1    JARDIM DA PENHA            0             0         0           0   \n",
       "2      MATA DA PRAIA            0             0         0           0   \n",
       "3  PONTAL DE CAMBURI            0             0         0           0   \n",
       "4    JARDIM DA PENHA            0             1         1           0   \n",
       "\n",
       "   Handicap  SMS_received  No_show Registration_DayOfWeek  \n",
       "0         0             0        0                      5  \n",
       "1         0             0        0                      5  \n",
       "2         0             0        0                      5  \n",
       "3         0             0        0                      5  \n",
       "4         0             0        0                      5  "
      ]
     },
     "execution_count": 559,
     "metadata": {},
     "output_type": "execute_result"
    }
   ],
   "source": [
    "df.head()"
   ]
  },
  {
   "cell_type": "code",
   "execution_count": 560,
   "id": "cordless-consortium",
   "metadata": {},
   "outputs": [
    {
     "data": {
      "text/html": [
       "<div>\n",
       "<style scoped>\n",
       "    .dataframe tbody tr th:only-of-type {\n",
       "        vertical-align: middle;\n",
       "    }\n",
       "\n",
       "    .dataframe tbody tr th {\n",
       "        vertical-align: top;\n",
       "    }\n",
       "\n",
       "    .dataframe thead th {\n",
       "        text-align: right;\n",
       "    }\n",
       "</style>\n",
       "<table border=\"1\" class=\"dataframe\">\n",
       "  <thead>\n",
       "    <tr style=\"text-align: right;\">\n",
       "      <th></th>\n",
       "      <th>Gender</th>\n",
       "      <th>RegistrationDay</th>\n",
       "      <th>AppointmentDay</th>\n",
       "      <th>Age</th>\n",
       "      <th>Neighbourhood</th>\n",
       "      <th>Scholarship</th>\n",
       "      <th>Hipertension</th>\n",
       "      <th>Diabetes</th>\n",
       "      <th>Alcoholism</th>\n",
       "      <th>Handicap</th>\n",
       "      <th>SMS_received</th>\n",
       "      <th>No_show</th>\n",
       "      <th>Registration_DayOfWeek</th>\n",
       "    </tr>\n",
       "  </thead>\n",
       "  <tbody>\n",
       "  </tbody>\n",
       "</table>\n",
       "</div>"
      ],
      "text/plain": [
       "Empty DataFrame\n",
       "Columns: [Gender, RegistrationDay, AppointmentDay, Age, Neighbourhood, Scholarship, Hipertension, Diabetes, Alcoholism, Handicap, SMS_received, No_show, Registration_DayOfWeek]\n",
       "Index: []"
      ]
     },
     "execution_count": 560,
     "metadata": {},
     "output_type": "execute_result"
    }
   ],
   "source": [
    "df[df.Registration_DayOfWeek==0]"
   ]
  },
  {
   "cell_type": "code",
   "execution_count": 561,
   "id": "national-mentor",
   "metadata": {},
   "outputs": [
    {
     "data": {
      "text/html": [
       "<div>\n",
       "<style scoped>\n",
       "    .dataframe tbody tr th:only-of-type {\n",
       "        vertical-align: middle;\n",
       "    }\n",
       "\n",
       "    .dataframe tbody tr th {\n",
       "        vertical-align: top;\n",
       "    }\n",
       "\n",
       "    .dataframe thead th {\n",
       "        text-align: right;\n",
       "    }\n",
       "</style>\n",
       "<table border=\"1\" class=\"dataframe\">\n",
       "  <thead>\n",
       "    <tr style=\"text-align: right;\">\n",
       "      <th></th>\n",
       "      <th>Gender</th>\n",
       "      <th>RegistrationDay</th>\n",
       "      <th>AppointmentDay</th>\n",
       "      <th>Age</th>\n",
       "      <th>Neighbourhood</th>\n",
       "      <th>Scholarship</th>\n",
       "      <th>Hipertension</th>\n",
       "      <th>Diabetes</th>\n",
       "      <th>Alcoholism</th>\n",
       "      <th>Handicap</th>\n",
       "      <th>SMS_received</th>\n",
       "      <th>No_show</th>\n",
       "      <th>Registration_DayOfWeek</th>\n",
       "    </tr>\n",
       "  </thead>\n",
       "  <tbody>\n",
       "  </tbody>\n",
       "</table>\n",
       "</div>"
      ],
      "text/plain": [
       "Empty DataFrame\n",
       "Columns: [Gender, RegistrationDay, AppointmentDay, Age, Neighbourhood, Scholarship, Hipertension, Diabetes, Alcoholism, Handicap, SMS_received, No_show, Registration_DayOfWeek]\n",
       "Index: []"
      ]
     },
     "execution_count": 561,
     "metadata": {},
     "output_type": "execute_result"
    }
   ],
   "source": [
    "df[df.Registration_DayOfWeek==6]"
   ]
  },
  {
   "cell_type": "markdown",
   "id": "binding-bulgaria",
   "metadata": {},
   "source": [
    "There is no appointment in weekends"
   ]
  },
  {
   "cell_type": "code",
   "execution_count": 562,
   "id": "municipal-square",
   "metadata": {},
   "outputs": [],
   "source": [
    "df['WaitingPeriod']= df.AppointmentDay - df.RegistrationDay "
   ]
  },
  {
   "cell_type": "code",
   "execution_count": 563,
   "id": "effective-palace",
   "metadata": {},
   "outputs": [],
   "source": [
    "df['WaitingPeriod']=pd.to_timedelta(df.WaitingPeriod, errors='coerce').dt.days"
   ]
  },
  {
   "cell_type": "code",
   "execution_count": 564,
   "id": "foster-visiting",
   "metadata": {},
   "outputs": [
    {
     "data": {
      "text/html": [
       "<div>\n",
       "<style scoped>\n",
       "    .dataframe tbody tr th:only-of-type {\n",
       "        vertical-align: middle;\n",
       "    }\n",
       "\n",
       "    .dataframe tbody tr th {\n",
       "        vertical-align: top;\n",
       "    }\n",
       "\n",
       "    .dataframe thead th {\n",
       "        text-align: right;\n",
       "    }\n",
       "</style>\n",
       "<table border=\"1\" class=\"dataframe\">\n",
       "  <thead>\n",
       "    <tr style=\"text-align: right;\">\n",
       "      <th></th>\n",
       "      <th>Gender</th>\n",
       "      <th>RegistrationDay</th>\n",
       "      <th>AppointmentDay</th>\n",
       "      <th>Age</th>\n",
       "      <th>Neighbourhood</th>\n",
       "      <th>Scholarship</th>\n",
       "      <th>Hipertension</th>\n",
       "      <th>Diabetes</th>\n",
       "      <th>Alcoholism</th>\n",
       "      <th>Handicap</th>\n",
       "      <th>SMS_received</th>\n",
       "      <th>No_show</th>\n",
       "      <th>Registration_DayOfWeek</th>\n",
       "      <th>WaitingPeriod</th>\n",
       "    </tr>\n",
       "  </thead>\n",
       "  <tbody>\n",
       "    <tr>\n",
       "      <th>0</th>\n",
       "      <td>F</td>\n",
       "      <td>2016-04-29 18:38:08+00:00</td>\n",
       "      <td>2016-04-29 00:00:00+00:00</td>\n",
       "      <td>62</td>\n",
       "      <td>JARDIM DA PENHA</td>\n",
       "      <td>0</td>\n",
       "      <td>1</td>\n",
       "      <td>0</td>\n",
       "      <td>0</td>\n",
       "      <td>0</td>\n",
       "      <td>0</td>\n",
       "      <td>0</td>\n",
       "      <td>5</td>\n",
       "      <td>-1</td>\n",
       "    </tr>\n",
       "    <tr>\n",
       "      <th>1</th>\n",
       "      <td>M</td>\n",
       "      <td>2016-04-29 16:08:27+00:00</td>\n",
       "      <td>2016-04-29 00:00:00+00:00</td>\n",
       "      <td>56</td>\n",
       "      <td>JARDIM DA PENHA</td>\n",
       "      <td>0</td>\n",
       "      <td>0</td>\n",
       "      <td>0</td>\n",
       "      <td>0</td>\n",
       "      <td>0</td>\n",
       "      <td>0</td>\n",
       "      <td>0</td>\n",
       "      <td>5</td>\n",
       "      <td>-1</td>\n",
       "    </tr>\n",
       "    <tr>\n",
       "      <th>2</th>\n",
       "      <td>F</td>\n",
       "      <td>2016-04-29 16:19:04+00:00</td>\n",
       "      <td>2016-04-29 00:00:00+00:00</td>\n",
       "      <td>62</td>\n",
       "      <td>MATA DA PRAIA</td>\n",
       "      <td>0</td>\n",
       "      <td>0</td>\n",
       "      <td>0</td>\n",
       "      <td>0</td>\n",
       "      <td>0</td>\n",
       "      <td>0</td>\n",
       "      <td>0</td>\n",
       "      <td>5</td>\n",
       "      <td>-1</td>\n",
       "    </tr>\n",
       "    <tr>\n",
       "      <th>3</th>\n",
       "      <td>F</td>\n",
       "      <td>2016-04-29 17:29:31+00:00</td>\n",
       "      <td>2016-04-29 00:00:00+00:00</td>\n",
       "      <td>8</td>\n",
       "      <td>PONTAL DE CAMBURI</td>\n",
       "      <td>0</td>\n",
       "      <td>0</td>\n",
       "      <td>0</td>\n",
       "      <td>0</td>\n",
       "      <td>0</td>\n",
       "      <td>0</td>\n",
       "      <td>0</td>\n",
       "      <td>5</td>\n",
       "      <td>-1</td>\n",
       "    </tr>\n",
       "    <tr>\n",
       "      <th>4</th>\n",
       "      <td>F</td>\n",
       "      <td>2016-04-29 16:07:23+00:00</td>\n",
       "      <td>2016-04-29 00:00:00+00:00</td>\n",
       "      <td>56</td>\n",
       "      <td>JARDIM DA PENHA</td>\n",
       "      <td>0</td>\n",
       "      <td>1</td>\n",
       "      <td>1</td>\n",
       "      <td>0</td>\n",
       "      <td>0</td>\n",
       "      <td>0</td>\n",
       "      <td>0</td>\n",
       "      <td>5</td>\n",
       "      <td>-1</td>\n",
       "    </tr>\n",
       "    <tr>\n",
       "      <th>...</th>\n",
       "      <td>...</td>\n",
       "      <td>...</td>\n",
       "      <td>...</td>\n",
       "      <td>...</td>\n",
       "      <td>...</td>\n",
       "      <td>...</td>\n",
       "      <td>...</td>\n",
       "      <td>...</td>\n",
       "      <td>...</td>\n",
       "      <td>...</td>\n",
       "      <td>...</td>\n",
       "      <td>...</td>\n",
       "      <td>...</td>\n",
       "      <td>...</td>\n",
       "    </tr>\n",
       "    <tr>\n",
       "      <th>110322</th>\n",
       "      <td>F</td>\n",
       "      <td>2016-05-03 09:15:35+00:00</td>\n",
       "      <td>2016-06-07 00:00:00+00:00</td>\n",
       "      <td>56</td>\n",
       "      <td>MARIA ORTIZ</td>\n",
       "      <td>0</td>\n",
       "      <td>0</td>\n",
       "      <td>0</td>\n",
       "      <td>0</td>\n",
       "      <td>0</td>\n",
       "      <td>1</td>\n",
       "      <td>0</td>\n",
       "      <td>2</td>\n",
       "      <td>34</td>\n",
       "    </tr>\n",
       "    <tr>\n",
       "      <th>110323</th>\n",
       "      <td>F</td>\n",
       "      <td>2016-05-03 07:27:33+00:00</td>\n",
       "      <td>2016-06-07 00:00:00+00:00</td>\n",
       "      <td>51</td>\n",
       "      <td>MARIA ORTIZ</td>\n",
       "      <td>0</td>\n",
       "      <td>0</td>\n",
       "      <td>0</td>\n",
       "      <td>0</td>\n",
       "      <td>0</td>\n",
       "      <td>1</td>\n",
       "      <td>0</td>\n",
       "      <td>2</td>\n",
       "      <td>34</td>\n",
       "    </tr>\n",
       "    <tr>\n",
       "      <th>110324</th>\n",
       "      <td>F</td>\n",
       "      <td>2016-04-27 16:03:52+00:00</td>\n",
       "      <td>2016-06-07 00:00:00+00:00</td>\n",
       "      <td>21</td>\n",
       "      <td>MARIA ORTIZ</td>\n",
       "      <td>0</td>\n",
       "      <td>0</td>\n",
       "      <td>0</td>\n",
       "      <td>0</td>\n",
       "      <td>0</td>\n",
       "      <td>1</td>\n",
       "      <td>0</td>\n",
       "      <td>3</td>\n",
       "      <td>40</td>\n",
       "    </tr>\n",
       "    <tr>\n",
       "      <th>110325</th>\n",
       "      <td>F</td>\n",
       "      <td>2016-04-27 15:09:23+00:00</td>\n",
       "      <td>2016-06-07 00:00:00+00:00</td>\n",
       "      <td>38</td>\n",
       "      <td>MARIA ORTIZ</td>\n",
       "      <td>0</td>\n",
       "      <td>0</td>\n",
       "      <td>0</td>\n",
       "      <td>0</td>\n",
       "      <td>0</td>\n",
       "      <td>1</td>\n",
       "      <td>0</td>\n",
       "      <td>3</td>\n",
       "      <td>40</td>\n",
       "    </tr>\n",
       "    <tr>\n",
       "      <th>110326</th>\n",
       "      <td>F</td>\n",
       "      <td>2016-04-27 13:30:56+00:00</td>\n",
       "      <td>2016-06-07 00:00:00+00:00</td>\n",
       "      <td>54</td>\n",
       "      <td>MARIA ORTIZ</td>\n",
       "      <td>0</td>\n",
       "      <td>0</td>\n",
       "      <td>0</td>\n",
       "      <td>0</td>\n",
       "      <td>0</td>\n",
       "      <td>1</td>\n",
       "      <td>0</td>\n",
       "      <td>3</td>\n",
       "      <td>40</td>\n",
       "    </tr>\n",
       "  </tbody>\n",
       "</table>\n",
       "<p>110327 rows × 14 columns</p>\n",
       "</div>"
      ],
      "text/plain": [
       "       Gender           RegistrationDay            AppointmentDay  Age  \\\n",
       "0           F 2016-04-29 18:38:08+00:00 2016-04-29 00:00:00+00:00   62   \n",
       "1           M 2016-04-29 16:08:27+00:00 2016-04-29 00:00:00+00:00   56   \n",
       "2           F 2016-04-29 16:19:04+00:00 2016-04-29 00:00:00+00:00   62   \n",
       "3           F 2016-04-29 17:29:31+00:00 2016-04-29 00:00:00+00:00    8   \n",
       "4           F 2016-04-29 16:07:23+00:00 2016-04-29 00:00:00+00:00   56   \n",
       "...       ...                       ...                       ...  ...   \n",
       "110322      F 2016-05-03 09:15:35+00:00 2016-06-07 00:00:00+00:00   56   \n",
       "110323      F 2016-05-03 07:27:33+00:00 2016-06-07 00:00:00+00:00   51   \n",
       "110324      F 2016-04-27 16:03:52+00:00 2016-06-07 00:00:00+00:00   21   \n",
       "110325      F 2016-04-27 15:09:23+00:00 2016-06-07 00:00:00+00:00   38   \n",
       "110326      F 2016-04-27 13:30:56+00:00 2016-06-07 00:00:00+00:00   54   \n",
       "\n",
       "            Neighbourhood  Scholarship  Hipertension  Diabetes  Alcoholism  \\\n",
       "0         JARDIM DA PENHA            0             1         0           0   \n",
       "1         JARDIM DA PENHA            0             0         0           0   \n",
       "2           MATA DA PRAIA            0             0         0           0   \n",
       "3       PONTAL DE CAMBURI            0             0         0           0   \n",
       "4         JARDIM DA PENHA            0             1         1           0   \n",
       "...                   ...          ...           ...       ...         ...   \n",
       "110322        MARIA ORTIZ            0             0         0           0   \n",
       "110323        MARIA ORTIZ            0             0         0           0   \n",
       "110324        MARIA ORTIZ            0             0         0           0   \n",
       "110325        MARIA ORTIZ            0             0         0           0   \n",
       "110326        MARIA ORTIZ            0             0         0           0   \n",
       "\n",
       "        Handicap  SMS_received  No_show Registration_DayOfWeek  WaitingPeriod  \n",
       "0              0             0        0                      5             -1  \n",
       "1              0             0        0                      5             -1  \n",
       "2              0             0        0                      5             -1  \n",
       "3              0             0        0                      5             -1  \n",
       "4              0             0        0                      5             -1  \n",
       "...          ...           ...      ...                    ...            ...  \n",
       "110322         0             1        0                      2             34  \n",
       "110323         0             1        0                      2             34  \n",
       "110324         0             1        0                      3             40  \n",
       "110325         0             1        0                      3             40  \n",
       "110326         0             1        0                      3             40  \n",
       "\n",
       "[110327 rows x 14 columns]"
      ]
     },
     "execution_count": 564,
     "metadata": {},
     "output_type": "execute_result"
    }
   ],
   "source": [
    "df"
   ]
  },
  {
   "cell_type": "markdown",
   "id": "acceptable-matter",
   "metadata": {},
   "source": [
    "There is negative waiting period which is not realistic"
   ]
  },
  {
   "cell_type": "code",
   "execution_count": 565,
   "id": "expanded-poster",
   "metadata": {},
   "outputs": [
    {
     "data": {
      "text/html": [
       "<div>\n",
       "<style scoped>\n",
       "    .dataframe tbody tr th:only-of-type {\n",
       "        vertical-align: middle;\n",
       "    }\n",
       "\n",
       "    .dataframe tbody tr th {\n",
       "        vertical-align: top;\n",
       "    }\n",
       "\n",
       "    .dataframe thead th {\n",
       "        text-align: right;\n",
       "    }\n",
       "</style>\n",
       "<table border=\"1\" class=\"dataframe\">\n",
       "  <thead>\n",
       "    <tr style=\"text-align: right;\">\n",
       "      <th></th>\n",
       "      <th>Gender</th>\n",
       "      <th>RegistrationDay</th>\n",
       "      <th>AppointmentDay</th>\n",
       "      <th>Age</th>\n",
       "      <th>Neighbourhood</th>\n",
       "      <th>Scholarship</th>\n",
       "      <th>Hipertension</th>\n",
       "      <th>Diabetes</th>\n",
       "      <th>Alcoholism</th>\n",
       "      <th>Handicap</th>\n",
       "      <th>SMS_received</th>\n",
       "      <th>No_show</th>\n",
       "      <th>Registration_DayOfWeek</th>\n",
       "      <th>WaitingPeriod</th>\n",
       "    </tr>\n",
       "  </thead>\n",
       "  <tbody>\n",
       "    <tr>\n",
       "      <th>0</th>\n",
       "      <td>F</td>\n",
       "      <td>2016-04-29 18:38:08+00:00</td>\n",
       "      <td>2016-04-29 00:00:00+00:00</td>\n",
       "      <td>62</td>\n",
       "      <td>JARDIM DA PENHA</td>\n",
       "      <td>0</td>\n",
       "      <td>1</td>\n",
       "      <td>0</td>\n",
       "      <td>0</td>\n",
       "      <td>0</td>\n",
       "      <td>0</td>\n",
       "      <td>0</td>\n",
       "      <td>5</td>\n",
       "      <td>-1</td>\n",
       "    </tr>\n",
       "    <tr>\n",
       "      <th>1</th>\n",
       "      <td>M</td>\n",
       "      <td>2016-04-29 16:08:27+00:00</td>\n",
       "      <td>2016-04-29 00:00:00+00:00</td>\n",
       "      <td>56</td>\n",
       "      <td>JARDIM DA PENHA</td>\n",
       "      <td>0</td>\n",
       "      <td>0</td>\n",
       "      <td>0</td>\n",
       "      <td>0</td>\n",
       "      <td>0</td>\n",
       "      <td>0</td>\n",
       "      <td>0</td>\n",
       "      <td>5</td>\n",
       "      <td>-1</td>\n",
       "    </tr>\n",
       "    <tr>\n",
       "      <th>2</th>\n",
       "      <td>F</td>\n",
       "      <td>2016-04-29 16:19:04+00:00</td>\n",
       "      <td>2016-04-29 00:00:00+00:00</td>\n",
       "      <td>62</td>\n",
       "      <td>MATA DA PRAIA</td>\n",
       "      <td>0</td>\n",
       "      <td>0</td>\n",
       "      <td>0</td>\n",
       "      <td>0</td>\n",
       "      <td>0</td>\n",
       "      <td>0</td>\n",
       "      <td>0</td>\n",
       "      <td>5</td>\n",
       "      <td>-1</td>\n",
       "    </tr>\n",
       "    <tr>\n",
       "      <th>3</th>\n",
       "      <td>F</td>\n",
       "      <td>2016-04-29 17:29:31+00:00</td>\n",
       "      <td>2016-04-29 00:00:00+00:00</td>\n",
       "      <td>8</td>\n",
       "      <td>PONTAL DE CAMBURI</td>\n",
       "      <td>0</td>\n",
       "      <td>0</td>\n",
       "      <td>0</td>\n",
       "      <td>0</td>\n",
       "      <td>0</td>\n",
       "      <td>0</td>\n",
       "      <td>0</td>\n",
       "      <td>5</td>\n",
       "      <td>-1</td>\n",
       "    </tr>\n",
       "    <tr>\n",
       "      <th>4</th>\n",
       "      <td>F</td>\n",
       "      <td>2016-04-29 16:07:23+00:00</td>\n",
       "      <td>2016-04-29 00:00:00+00:00</td>\n",
       "      <td>56</td>\n",
       "      <td>JARDIM DA PENHA</td>\n",
       "      <td>0</td>\n",
       "      <td>1</td>\n",
       "      <td>1</td>\n",
       "      <td>0</td>\n",
       "      <td>0</td>\n",
       "      <td>0</td>\n",
       "      <td>0</td>\n",
       "      <td>5</td>\n",
       "      <td>-1</td>\n",
       "    </tr>\n",
       "    <tr>\n",
       "      <th>...</th>\n",
       "      <td>...</td>\n",
       "      <td>...</td>\n",
       "      <td>...</td>\n",
       "      <td>...</td>\n",
       "      <td>...</td>\n",
       "      <td>...</td>\n",
       "      <td>...</td>\n",
       "      <td>...</td>\n",
       "      <td>...</td>\n",
       "      <td>...</td>\n",
       "      <td>...</td>\n",
       "      <td>...</td>\n",
       "      <td>...</td>\n",
       "      <td>...</td>\n",
       "    </tr>\n",
       "    <tr>\n",
       "      <th>110311</th>\n",
       "      <td>F</td>\n",
       "      <td>2016-06-08 08:50:20+00:00</td>\n",
       "      <td>2016-06-08 00:00:00+00:00</td>\n",
       "      <td>14</td>\n",
       "      <td>MARIA ORTIZ</td>\n",
       "      <td>0</td>\n",
       "      <td>0</td>\n",
       "      <td>0</td>\n",
       "      <td>0</td>\n",
       "      <td>0</td>\n",
       "      <td>0</td>\n",
       "      <td>0</td>\n",
       "      <td>3</td>\n",
       "      <td>-1</td>\n",
       "    </tr>\n",
       "    <tr>\n",
       "      <th>110312</th>\n",
       "      <td>F</td>\n",
       "      <td>2016-06-08 08:20:01+00:00</td>\n",
       "      <td>2016-06-08 00:00:00+00:00</td>\n",
       "      <td>41</td>\n",
       "      <td>MARIA ORTIZ</td>\n",
       "      <td>0</td>\n",
       "      <td>0</td>\n",
       "      <td>0</td>\n",
       "      <td>0</td>\n",
       "      <td>0</td>\n",
       "      <td>0</td>\n",
       "      <td>0</td>\n",
       "      <td>3</td>\n",
       "      <td>-1</td>\n",
       "    </tr>\n",
       "    <tr>\n",
       "      <th>110313</th>\n",
       "      <td>M</td>\n",
       "      <td>2016-06-08 07:52:55+00:00</td>\n",
       "      <td>2016-06-08 00:00:00+00:00</td>\n",
       "      <td>2</td>\n",
       "      <td>ANTÔNIO HONÓRIO</td>\n",
       "      <td>0</td>\n",
       "      <td>0</td>\n",
       "      <td>0</td>\n",
       "      <td>0</td>\n",
       "      <td>0</td>\n",
       "      <td>0</td>\n",
       "      <td>0</td>\n",
       "      <td>3</td>\n",
       "      <td>-1</td>\n",
       "    </tr>\n",
       "    <tr>\n",
       "      <th>110314</th>\n",
       "      <td>F</td>\n",
       "      <td>2016-06-08 08:35:31+00:00</td>\n",
       "      <td>2016-06-08 00:00:00+00:00</td>\n",
       "      <td>58</td>\n",
       "      <td>MARIA ORTIZ</td>\n",
       "      <td>0</td>\n",
       "      <td>0</td>\n",
       "      <td>0</td>\n",
       "      <td>0</td>\n",
       "      <td>0</td>\n",
       "      <td>0</td>\n",
       "      <td>0</td>\n",
       "      <td>3</td>\n",
       "      <td>-1</td>\n",
       "    </tr>\n",
       "    <tr>\n",
       "      <th>110317</th>\n",
       "      <td>F</td>\n",
       "      <td>2016-06-07 07:38:34+00:00</td>\n",
       "      <td>2016-06-07 00:00:00+00:00</td>\n",
       "      <td>19</td>\n",
       "      <td>MARIA ORTIZ</td>\n",
       "      <td>0</td>\n",
       "      <td>0</td>\n",
       "      <td>0</td>\n",
       "      <td>0</td>\n",
       "      <td>0</td>\n",
       "      <td>0</td>\n",
       "      <td>0</td>\n",
       "      <td>2</td>\n",
       "      <td>-1</td>\n",
       "    </tr>\n",
       "  </tbody>\n",
       "</table>\n",
       "<p>38490 rows × 14 columns</p>\n",
       "</div>"
      ],
      "text/plain": [
       "       Gender           RegistrationDay            AppointmentDay  Age  \\\n",
       "0           F 2016-04-29 18:38:08+00:00 2016-04-29 00:00:00+00:00   62   \n",
       "1           M 2016-04-29 16:08:27+00:00 2016-04-29 00:00:00+00:00   56   \n",
       "2           F 2016-04-29 16:19:04+00:00 2016-04-29 00:00:00+00:00   62   \n",
       "3           F 2016-04-29 17:29:31+00:00 2016-04-29 00:00:00+00:00    8   \n",
       "4           F 2016-04-29 16:07:23+00:00 2016-04-29 00:00:00+00:00   56   \n",
       "...       ...                       ...                       ...  ...   \n",
       "110311      F 2016-06-08 08:50:20+00:00 2016-06-08 00:00:00+00:00   14   \n",
       "110312      F 2016-06-08 08:20:01+00:00 2016-06-08 00:00:00+00:00   41   \n",
       "110313      M 2016-06-08 07:52:55+00:00 2016-06-08 00:00:00+00:00    2   \n",
       "110314      F 2016-06-08 08:35:31+00:00 2016-06-08 00:00:00+00:00   58   \n",
       "110317      F 2016-06-07 07:38:34+00:00 2016-06-07 00:00:00+00:00   19   \n",
       "\n",
       "            Neighbourhood  Scholarship  Hipertension  Diabetes  Alcoholism  \\\n",
       "0         JARDIM DA PENHA            0             1         0           0   \n",
       "1         JARDIM DA PENHA            0             0         0           0   \n",
       "2           MATA DA PRAIA            0             0         0           0   \n",
       "3       PONTAL DE CAMBURI            0             0         0           0   \n",
       "4         JARDIM DA PENHA            0             1         1           0   \n",
       "...                   ...          ...           ...       ...         ...   \n",
       "110311        MARIA ORTIZ            0             0         0           0   \n",
       "110312        MARIA ORTIZ            0             0         0           0   \n",
       "110313    ANTÔNIO HONÓRIO            0             0         0           0   \n",
       "110314        MARIA ORTIZ            0             0         0           0   \n",
       "110317        MARIA ORTIZ            0             0         0           0   \n",
       "\n",
       "        Handicap  SMS_received  No_show Registration_DayOfWeek  WaitingPeriod  \n",
       "0              0             0        0                      5             -1  \n",
       "1              0             0        0                      5             -1  \n",
       "2              0             0        0                      5             -1  \n",
       "3              0             0        0                      5             -1  \n",
       "4              0             0        0                      5             -1  \n",
       "...          ...           ...      ...                    ...            ...  \n",
       "110311         0             0        0                      3             -1  \n",
       "110312         0             0        0                      3             -1  \n",
       "110313         0             0        0                      3             -1  \n",
       "110314         0             0        0                      3             -1  \n",
       "110317         0             0        0                      2             -1  \n",
       "\n",
       "[38490 rows x 14 columns]"
      ]
     },
     "execution_count": 565,
     "metadata": {},
     "output_type": "execute_result"
    }
   ],
   "source": [
    "dropped_periods=df[df.WaitingPeriod < 0]\n",
    "dropped_periods"
   ]
  },
  {
   "cell_type": "markdown",
   "id": "sought-composition",
   "metadata": {},
   "source": [
    "### Drop the rows with negative waiting periods"
   ]
  },
  {
   "cell_type": "code",
   "execution_count": 566,
   "id": "hairy-antenna",
   "metadata": {},
   "outputs": [],
   "source": [
    "df.drop(dropped_periods.index,axis=0,inplace=True)"
   ]
  },
  {
   "cell_type": "code",
   "execution_count": 567,
   "id": "super-characteristic",
   "metadata": {},
   "outputs": [
    {
     "data": {
      "text/plain": [
       "0"
      ]
     },
     "execution_count": 567,
     "metadata": {},
     "output_type": "execute_result"
    }
   ],
   "source": [
    "#check\n",
    "sum(df[df.WaitingPeriod < 0].index)"
   ]
  },
  {
   "cell_type": "markdown",
   "id": "linear-guarantee",
   "metadata": {},
   "source": [
    "<a id='eda'></a>\n",
    "## Exploratory Data Analysis\n",
    "\n",
    "\n",
    "### Q1: What factors affect the patients'showing up?"
   ]
  },
  {
   "cell_type": "code",
   "execution_count": 568,
   "id": "wrong-starter",
   "metadata": {},
   "outputs": [
    {
     "data": {
      "text/html": [
       "<div>\n",
       "<style scoped>\n",
       "    .dataframe tbody tr th:only-of-type {\n",
       "        vertical-align: middle;\n",
       "    }\n",
       "\n",
       "    .dataframe tbody tr th {\n",
       "        vertical-align: top;\n",
       "    }\n",
       "\n",
       "    .dataframe thead th {\n",
       "        text-align: right;\n",
       "    }\n",
       "</style>\n",
       "<table border=\"1\" class=\"dataframe\">\n",
       "  <thead>\n",
       "    <tr style=\"text-align: right;\">\n",
       "      <th></th>\n",
       "      <th>Age</th>\n",
       "      <th>Scholarship</th>\n",
       "      <th>Hipertension</th>\n",
       "      <th>Diabetes</th>\n",
       "      <th>Alcoholism</th>\n",
       "      <th>Handicap</th>\n",
       "      <th>SMS_received</th>\n",
       "      <th>No_show</th>\n",
       "      <th>WaitingPeriod</th>\n",
       "    </tr>\n",
       "  </thead>\n",
       "  <tbody>\n",
       "    <tr>\n",
       "      <th>count</th>\n",
       "      <td>71837.000000</td>\n",
       "      <td>71837.000000</td>\n",
       "      <td>71837.000000</td>\n",
       "      <td>71837.000000</td>\n",
       "      <td>71837.000000</td>\n",
       "      <td>71837.000000</td>\n",
       "      <td>71837.000000</td>\n",
       "      <td>71837.000000</td>\n",
       "      <td>71837.000000</td>\n",
       "    </tr>\n",
       "    <tr>\n",
       "      <th>mean</th>\n",
       "      <td>38.486504</td>\n",
       "      <td>0.092766</td>\n",
       "      <td>0.208486</td>\n",
       "      <td>0.074446</td>\n",
       "      <td>0.025266</td>\n",
       "      <td>0.016496</td>\n",
       "      <td>0.493269</td>\n",
       "      <td>0.285159</td>\n",
       "      <td>14.645252</td>\n",
       "    </tr>\n",
       "    <tr>\n",
       "      <th>std</th>\n",
       "      <td>22.916152</td>\n",
       "      <td>0.290106</td>\n",
       "      <td>0.406229</td>\n",
       "      <td>0.262498</td>\n",
       "      <td>0.156932</td>\n",
       "      <td>0.127373</td>\n",
       "      <td>0.499958</td>\n",
       "      <td>0.451493</td>\n",
       "      <td>16.496611</td>\n",
       "    </tr>\n",
       "    <tr>\n",
       "      <th>min</th>\n",
       "      <td>0.000000</td>\n",
       "      <td>0.000000</td>\n",
       "      <td>0.000000</td>\n",
       "      <td>0.000000</td>\n",
       "      <td>0.000000</td>\n",
       "      <td>0.000000</td>\n",
       "      <td>0.000000</td>\n",
       "      <td>0.000000</td>\n",
       "      <td>0.000000</td>\n",
       "    </tr>\n",
       "    <tr>\n",
       "      <th>25%</th>\n",
       "      <td>19.000000</td>\n",
       "      <td>0.000000</td>\n",
       "      <td>0.000000</td>\n",
       "      <td>0.000000</td>\n",
       "      <td>0.000000</td>\n",
       "      <td>0.000000</td>\n",
       "      <td>0.000000</td>\n",
       "      <td>0.000000</td>\n",
       "      <td>3.000000</td>\n",
       "    </tr>\n",
       "    <tr>\n",
       "      <th>50%</th>\n",
       "      <td>39.000000</td>\n",
       "      <td>0.000000</td>\n",
       "      <td>0.000000</td>\n",
       "      <td>0.000000</td>\n",
       "      <td>0.000000</td>\n",
       "      <td>0.000000</td>\n",
       "      <td>0.000000</td>\n",
       "      <td>0.000000</td>\n",
       "      <td>8.000000</td>\n",
       "    </tr>\n",
       "    <tr>\n",
       "      <th>75%</th>\n",
       "      <td>57.000000</td>\n",
       "      <td>0.000000</td>\n",
       "      <td>0.000000</td>\n",
       "      <td>0.000000</td>\n",
       "      <td>0.000000</td>\n",
       "      <td>0.000000</td>\n",
       "      <td>1.000000</td>\n",
       "      <td>1.000000</td>\n",
       "      <td>21.000000</td>\n",
       "    </tr>\n",
       "    <tr>\n",
       "      <th>max</th>\n",
       "      <td>115.000000</td>\n",
       "      <td>1.000000</td>\n",
       "      <td>1.000000</td>\n",
       "      <td>1.000000</td>\n",
       "      <td>1.000000</td>\n",
       "      <td>1.000000</td>\n",
       "      <td>1.000000</td>\n",
       "      <td>1.000000</td>\n",
       "      <td>178.000000</td>\n",
       "    </tr>\n",
       "  </tbody>\n",
       "</table>\n",
       "</div>"
      ],
      "text/plain": [
       "                Age   Scholarship  Hipertension      Diabetes    Alcoholism  \\\n",
       "count  71837.000000  71837.000000  71837.000000  71837.000000  71837.000000   \n",
       "mean      38.486504      0.092766      0.208486      0.074446      0.025266   \n",
       "std       22.916152      0.290106      0.406229      0.262498      0.156932   \n",
       "min        0.000000      0.000000      0.000000      0.000000      0.000000   \n",
       "25%       19.000000      0.000000      0.000000      0.000000      0.000000   \n",
       "50%       39.000000      0.000000      0.000000      0.000000      0.000000   \n",
       "75%       57.000000      0.000000      0.000000      0.000000      0.000000   \n",
       "max      115.000000      1.000000      1.000000      1.000000      1.000000   \n",
       "\n",
       "           Handicap  SMS_received       No_show  WaitingPeriod  \n",
       "count  71837.000000  71837.000000  71837.000000   71837.000000  \n",
       "mean       0.016496      0.493269      0.285159      14.645252  \n",
       "std        0.127373      0.499958      0.451493      16.496611  \n",
       "min        0.000000      0.000000      0.000000       0.000000  \n",
       "25%        0.000000      0.000000      0.000000       3.000000  \n",
       "50%        0.000000      0.000000      0.000000       8.000000  \n",
       "75%        0.000000      1.000000      1.000000      21.000000  \n",
       "max        1.000000      1.000000      1.000000     178.000000  "
      ]
     },
     "execution_count": 568,
     "metadata": {},
     "output_type": "execute_result"
    }
   ],
   "source": [
    "df.describe()"
   ]
  },
  {
   "cell_type": "markdown",
   "id": "entitled-oxford",
   "metadata": {},
   "source": [
    "Average period between the registration and the appointment is about 15 days"
   ]
  },
  {
   "cell_type": "markdown",
   "id": "optical-termination",
   "metadata": {},
   "source": [
    "\n",
    "#### Results :\n",
    "\n",
    "    1- 49.3% of the patients recieved a reminder message\n",
    "    \n",
    "    2- 28.51% of the patients didn't show up\n",
    "  \n",
    "    3- Most patients are between 19 and 57 years old\n",
    "    \n",
    "    4- Average period between the registration and the appointment is about 15 days\n",
    "    \n",
    "    5- Most patients wait for 3 to 8 days\n",
    "    \n",
    "    \n",
    "    \n",
    "    \n",
    "    \n",
    " \n",
    "    \n",
    "    \n",
    "    \n"
   ]
  },
  {
   "cell_type": "code",
   "execution_count": 569,
   "id": "unknown-leisure",
   "metadata": {},
   "outputs": [],
   "source": [
    "#Masking data for patients that show up for their appointments and patients don't\n",
    "Show_up = df[df.No_show==0]\n",
    "No_show = df[df.No_show==1]"
   ]
  },
  {
   "cell_type": "markdown",
   "id": "toxic-value",
   "metadata": {},
   "source": [
    "#### Does SMS_received correlate with the No-show?"
   ]
  },
  {
   "cell_type": "code",
   "execution_count": 570,
   "id": "other-latino",
   "metadata": {},
   "outputs": [
    {
     "data": {
      "text/plain": [
       "0.49968842498831595"
      ]
     },
     "execution_count": 570,
     "metadata": {},
     "output_type": "execute_result"
    }
   ],
   "source": [
    "Show_up.SMS_received.mean()"
   ]
  },
  {
   "cell_type": "code",
   "execution_count": 571,
   "id": "pressing-hollywood",
   "metadata": {},
   "outputs": [
    {
     "data": {
      "text/plain": [
       "0.47717842323651455"
      ]
     },
     "execution_count": 571,
     "metadata": {},
     "output_type": "execute_result"
    }
   ],
   "source": [
    "No_show.SMS_received.mean()"
   ]
  },
  {
   "cell_type": "markdown",
   "id": "divine-inclusion",
   "metadata": {},
   "source": [
    "#### Results :\n",
    "\n",
    "    1- 49.96% of the patients who showed up recieved a reminder message\n",
    "    \n",
    "    2- 47.71% of the patients who didn't show up recieved a reminder message\n",
    "  \n",
    "   \n",
    "    "
   ]
  },
  {
   "cell_type": "markdown",
   "id": "consistent-syntax",
   "metadata": {},
   "source": [
    "It seems that there is no a strong correlation"
   ]
  },
  {
   "cell_type": "code",
   "execution_count": 572,
   "id": "passive-leeds",
   "metadata": {},
   "outputs": [
    {
     "data": {
      "image/png": "[encoded data removed]",
      "text/plain": [
       "<Figure size 432x288 with 1 Axes>"
      ]
     },
     "metadata": {
      "needs_background": "light"
     },
     "output_type": "display_data"
    }
   ],
   "source": [
    "# No_show.SMS_received.plot(kind='bar',alpha=0.5,bins=3,label='No show');\n",
    "df.groupby('SMS_received').No_show.mean().plot(kind='bar');\n",
    "plt.ylabel('Count Percentage');\n",
    "plt.title(\"The relation between the reminder messeges and patients'no shows\");\n",
    "plt.legend();"
   ]
  },
  {
   "cell_type": "markdown",
   "id": "typical-corner",
   "metadata": {},
   "source": [
    "Maybe it is related to age for not being awaring of SMS "
   ]
  },
  {
   "cell_type": "code",
   "execution_count": 573,
   "id": "every-dairy",
   "metadata": {},
   "outputs": [],
   "source": [
    "Show_up_reminded=Show_up[Show_up.SMS_received==1]"
   ]
  },
  {
   "cell_type": "code",
   "execution_count": 574,
   "id": "western-shopper",
   "metadata": {},
   "outputs": [],
   "source": [
    "No_show_reminded=No_show[No_show.SMS_received==1]"
   ]
  },
  {
   "cell_type": "code",
   "execution_count": 575,
   "id": "corresponding-semiconductor",
   "metadata": {},
   "outputs": [
    {
     "data": {
      "text/plain": [
       "38.87634450506625"
      ]
     },
     "execution_count": 575,
     "metadata": {},
     "output_type": "execute_result"
    }
   ],
   "source": [
    "Show_up_reminded.Age.mean()"
   ]
  },
  {
   "cell_type": "code",
   "execution_count": 576,
   "id": "killing-phrase",
   "metadata": {},
   "outputs": [
    {
     "data": {
      "text/plain": [
       "33.88593350383632"
      ]
     },
     "execution_count": 576,
     "metadata": {},
     "output_type": "execute_result"
    }
   ],
   "source": [
    "No_show_reminded.Age.mean()"
   ]
  },
  {
   "cell_type": "code",
   "execution_count": 577,
   "id": "arranged-gibraltar",
   "metadata": {},
   "outputs": [
    {
     "data": {
      "image/png": "[encoded data removed]",
      "text/plain": [
       "<Figure size 432x288 with 1 Axes>"
      ]
     },
     "metadata": {
      "needs_background": "light"
     },
     "output_type": "display_data"
    }
   ],
   "source": [
    "Show_up_reminded.Age.hist(label='Showed up');\n",
    "No_show_reminded.Age.hist(label='No show');\n",
    "plt.xlabel('Age')\n",
    "plt.ylabel('Patients received an SMS')\n",
    "plt.title(\"All reminded patients and their age\")\n",
    "plt.legend();"
   ]
  },
  {
   "cell_type": "code",
   "execution_count": 578,
   "id": "passing-rogers",
   "metadata": {},
   "outputs": [
    {
     "data": {
      "image/png": "[encoded data removed]",
      "text/plain": [
       "<Figure size 432x288 with 1 Axes>"
      ]
     },
     "metadata": {
      "needs_background": "light"
     },
     "output_type": "display_data"
    }
   ],
   "source": [
    "plt.boxplot(No_show_reminded.Age);"
   ]
  },
  {
   "cell_type": "markdown",
   "id": "searching-luxembourg",
   "metadata": {},
   "source": [
    "Find a correlation with Alcoholism and masked group of reminded patients with No shows"
   ]
  },
  {
   "cell_type": "code",
   "execution_count": 579,
   "id": "mature-driving",
   "metadata": {},
   "outputs": [
    {
     "data": {
      "image/png": "[encoded data removed]",
      "text/plain": [
       "<Figure size 432x288 with 1 Axes>"
      ]
     },
     "metadata": {
      "needs_background": "light"
     },
     "output_type": "display_data"
    }
   ],
   "source": [
    "# Show_up_reminded.Alcoholism.plot(kind='bar',label='Showed up');\n",
    "# No_show_reminded.Alcoholism.plot(kind='bar',label='No show');\n",
    "No_show_reminded.groupby('Alcoholism').No_show.mean().plot(kind='bar');\n",
    "\n",
    "plt.xlabel('Alcoholism')\n",
    "plt.ylabel('Patients received an SMS')\n",
    "plt.title(\"All reminded patients and if they are alcoholics\")\n",
    "plt.legend();"
   ]
  },
  {
   "cell_type": "code",
   "execution_count": 580,
   "id": "proper-mission",
   "metadata": {},
   "outputs": [
    {
     "data": {
      "image/png": "[encoded data removed]",
      "text/plain": [
       "<Figure size 432x288 with 2 Axes>"
      ]
     },
     "metadata": {
      "needs_background": "light"
     },
     "output_type": "display_data"
    }
   ],
   "source": [
    "df.Age.hist(df.Diabetes);"
   ]
  },
  {
   "cell_type": "markdown",
   "id": "active-moscow",
   "metadata": {},
   "source": [
    "#### Does Age correlate with the No-show?"
   ]
  },
  {
   "cell_type": "code",
   "execution_count": 581,
   "id": "sufficient-chick",
   "metadata": {},
   "outputs": [
    {
     "data": {
      "text/plain": [
       "39.95628213117308"
      ]
     },
     "execution_count": 581,
     "metadata": {},
     "output_type": "execute_result"
    }
   ],
   "source": [
    "Show_up.Age.mean()"
   ]
  },
  {
   "cell_type": "code",
   "execution_count": 582,
   "id": "expired-advancement",
   "metadata": {},
   "outputs": [
    {
     "data": {
      "text/plain": [
       "34.80205028069319"
      ]
     },
     "execution_count": 582,
     "metadata": {},
     "output_type": "execute_result"
    }
   ],
   "source": [
    "No_show.Age.mean()"
   ]
  },
  {
   "cell_type": "code",
   "execution_count": 583,
   "id": "fluid-rendering",
   "metadata": {},
   "outputs": [
    {
     "data": {
      "image/png": "[encoded data removed]",
      "text/plain": [
       "<Figure size 432x288 with 1 Axes>"
      ]
     },
     "metadata": {
      "needs_background": "light"
     },
     "output_type": "display_data"
    }
   ],
   "source": [
    "Show_up.Age.hist(alpha=0.5,bins=20,label='Show Up');\n",
    "No_show.Age.hist(alpha=0.5,bins=20,label='No Show');\n",
    "plt.title(\"Correlation between age and No shows\")\n",
    "plt.xlabel('Age')\n",
    "plt.ylabel('Count')\n",
    "plt.legend();"
   ]
  },
  {
   "cell_type": "markdown",
   "id": "referenced-longer",
   "metadata": {},
   "source": [
    "Poor relation!"
   ]
  },
  {
   "cell_type": "markdown",
   "id": "noted-trust",
   "metadata": {},
   "source": [
    "#### Does Scholarship correlate with the No-show?"
   ]
  },
  {
   "cell_type": "code",
   "execution_count": 584,
   "id": "angry-tokyo",
   "metadata": {},
   "outputs": [
    {
     "data": {
      "text/plain": [
       "0.08435893441346004"
      ]
     },
     "execution_count": 584,
     "metadata": {},
     "output_type": "execute_result"
    }
   ],
   "source": [
    "Show_up.Scholarship.mean()"
   ]
  },
  {
   "cell_type": "code",
   "execution_count": 585,
   "id": "constant-dover",
   "metadata": {},
   "outputs": [
    {
     "data": {
      "text/plain": [
       "0.11383939467903344"
      ]
     },
     "execution_count": 585,
     "metadata": {},
     "output_type": "execute_result"
    }
   ],
   "source": [
    "No_show.Scholarship.mean()"
   ]
  },
  {
   "cell_type": "code",
   "execution_count": 586,
   "id": "banned-rover",
   "metadata": {},
   "outputs": [
    {
     "data": {
      "image/png": "[encoded data removed]",
      "text/plain": [
       "<Figure size 432x288 with 1 Axes>"
      ]
     },
     "metadata": {
      "needs_background": "light"
     },
     "output_type": "display_data"
    }
   ],
   "source": [
    "df.groupby('Scholarship').No_show.mean().plot(kind='bar');\n",
    "plt.ylabel(\"Mean of No shows\");"
   ]
  },
  {
   "cell_type": "markdown",
   "id": "figured-shark",
   "metadata": {},
   "source": [
    "It seems that people with scholarships are more likely to not show up for their appointments"
   ]
  },
  {
   "cell_type": "markdown",
   "id": "recreational-flush",
   "metadata": {},
   "source": [
    "#### Does waiting period correlate with the No-show?"
   ]
  },
  {
   "cell_type": "code",
   "execution_count": 587,
   "id": "adaptive-rhythm",
   "metadata": {},
   "outputs": [
    {
     "data": {
      "text/plain": [
       "14.018305031936439"
      ]
     },
     "execution_count": 587,
     "metadata": {},
     "output_type": "execute_result"
    }
   ],
   "source": [
    "Show_up.WaitingPeriod.mean()"
   ]
  },
  {
   "cell_type": "code",
   "execution_count": 588,
   "id": "laden-relevance",
   "metadata": {},
   "outputs": [
    {
     "data": {
      "text/plain": [
       "16.216890407615328"
      ]
     },
     "execution_count": 588,
     "metadata": {},
     "output_type": "execute_result"
    }
   ],
   "source": [
    "No_show.WaitingPeriod.mean()"
   ]
  },
  {
   "cell_type": "code",
   "execution_count": 589,
   "id": "responsible-thirty",
   "metadata": {},
   "outputs": [
    {
     "data": {
      "image/png": "[encoded data removed]",
      "text/plain": [
       "<Figure size 432x288 with 1 Axes>"
      ]
     },
     "metadata": {
      "needs_background": "light"
     },
     "output_type": "display_data"
    }
   ],
   "source": [
    "Show_up.WaitingPeriod.hist(alpha=0.5,bins=20,label='Show Up');\n",
    "No_show.WaitingPeriod.hist(alpha=0.5,bins=20,label='No Show');\n",
    "plt.title('Correlation between Waiting Periods and No shows')\n",
    "plt.xlabel('Waiting Period (Days)')\n",
    "plt.ylabel('No.Paients')\n",
    "plt.legend();"
   ]
  },
  {
   "cell_type": "markdown",
   "id": "equal-archive",
   "metadata": {},
   "source": [
    "People with short waiting periods are more likely to show up"
   ]
  },
  {
   "cell_type": "markdown",
   "id": "stock-meeting",
   "metadata": {},
   "source": [
    "#### Does Diabetes, Alcoholism, Handicap or Hipertension correlate with the No-show?"
   ]
  },
  {
   "cell_type": "code",
   "execution_count": 590,
   "id": "efficient-tonight",
   "metadata": {},
   "outputs": [
    {
     "data": {
      "text/plain": [
       "Diabetes\n",
       "0    0.288033\n",
       "1    0.249439\n",
       "Name: No_show, dtype: float64"
      ]
     },
     "execution_count": 590,
     "metadata": {},
     "output_type": "execute_result"
    }
   ],
   "source": [
    "df.groupby('Diabetes').No_show.mean()"
   ]
  },
  {
   "cell_type": "code",
   "execution_count": 591,
   "id": "direct-radio",
   "metadata": {},
   "outputs": [
    {
     "data": {
      "image/png": "[encoded data removed]",
      "text/plain": [
       "<Figure size 432x288 with 1 Axes>"
      ]
     },
     "metadata": {
      "needs_background": "light"
     },
     "output_type": "display_data"
    }
   ],
   "source": [
    "df.groupby('Diabetes').No_show.mean().plot(kind='bar');\n",
    "plt.ylabel('Mean of No shows');\n",
    "plt.title(\"The relation between diabetes and no shows\");\n"
   ]
  },
  {
   "cell_type": "code",
   "execution_count": 592,
   "id": "french-antigua",
   "metadata": {},
   "outputs": [
    {
     "data": {
      "text/plain": [
       "Alcoholism\n",
       "0    0.283711\n",
       "1    0.341047\n",
       "Name: No_show, dtype: float64"
      ]
     },
     "execution_count": 592,
     "metadata": {},
     "output_type": "execute_result"
    }
   ],
   "source": [
    "df.groupby('Alcoholism').No_show.mean()"
   ]
  },
  {
   "cell_type": "code",
   "execution_count": 593,
   "id": "provincial-roommate",
   "metadata": {},
   "outputs": [
    {
     "data": {
      "image/png": "[encoded data removed]",
      "text/plain": [
       "<Figure size 432x288 with 1 Axes>"
      ]
     },
     "metadata": {
      "needs_background": "light"
     },
     "output_type": "display_data"
    }
   ],
   "source": [
    "df.groupby('Alcoholism').No_show.mean().plot(kind='bar');\n",
    "plt.ylabel('Mean of No shows');\n",
    "plt.title(\"The relation between Alcoholism and no shows\");\n",
    "\n"
   ]
  },
  {
   "cell_type": "code",
   "execution_count": 594,
   "id": "reliable-seeking",
   "metadata": {},
   "outputs": [
    {
     "data": {
      "text/plain": [
       "Handicap\n",
       "0    0.285739\n",
       "1    0.250633\n",
       "Name: No_show, dtype: float64"
      ]
     },
     "execution_count": 594,
     "metadata": {},
     "output_type": "execute_result"
    }
   ],
   "source": [
    "df.groupby('Handicap').No_show.mean()"
   ]
  },
  {
   "cell_type": "code",
   "execution_count": 595,
   "id": "fresh-button",
   "metadata": {},
   "outputs": [
    {
     "data": {
      "image/png": "[encoded data removed]",
      "text/plain": [
       "<Figure size 432x288 with 1 Axes>"
      ]
     },
     "metadata": {
      "needs_background": "light"
     },
     "output_type": "display_data"
    }
   ],
   "source": [
    "df.groupby('Handicap').No_show.mean().plot(kind='bar');\n",
    "plt.ylabel('Mean of No shows');\n",
    "plt.title(\"The relation between Handicap and no shows\");\n"
   ]
  },
  {
   "cell_type": "markdown",
   "id": "consistent-requirement",
   "metadata": {},
   "source": [
    "#### Does Neighbourhood correlate with the No-show?"
   ]
  },
  {
   "cell_type": "code",
   "execution_count": 596,
   "id": "objective-marker",
   "metadata": {},
   "outputs": [
    {
     "data": {
      "text/plain": [
       "JARDIM CAMBURI                 5213\n",
       "MARIA ORTIZ                    3730\n",
       "RESISTÊNCIA                    2814\n",
       "JARDIM DA PENHA                2652\n",
       "ITARARÉ                        2375\n",
       "                               ... \n",
       "PONTAL DE CAMBURI                41\n",
       "ILHA DO BOI                      23\n",
       "ILHA DO FRADE                     8\n",
       "AEROPORTO                         5\n",
       "ILHAS OCEÂNICAS DE TRINDADE       2\n",
       "Name: Neighbourhood, Length: 80, dtype: int64"
      ]
     },
     "execution_count": 596,
     "metadata": {},
     "output_type": "execute_result"
    }
   ],
   "source": [
    "df.Neighbourhood.value_counts()"
   ]
  },
  {
   "cell_type": "code",
   "execution_count": 597,
   "id": "sunset-protocol",
   "metadata": {},
   "outputs": [
    {
     "data": {
      "text/plain": [
       "641.0"
      ]
     },
     "execution_count": 597,
     "metadata": {},
     "output_type": "execute_result"
    }
   ],
   "source": [
    "df.Neighbourhood.value_counts().median()"
   ]
  },
  {
   "cell_type": "code",
   "execution_count": 598,
   "id": "assisted-activation",
   "metadata": {},
   "outputs": [
    {
     "data": {
      "text/plain": [
       "count      80.00000\n",
       "mean      897.96250\n",
       "std       887.70842\n",
       "min         2.00000\n",
       "25%       278.50000\n",
       "50%       641.00000\n",
       "75%      1359.50000\n",
       "max      5213.00000\n",
       "Name: Neighbourhood, dtype: float64"
      ]
     },
     "execution_count": 598,
     "metadata": {},
     "output_type": "execute_result"
    }
   ],
   "source": [
    "df.Neighbourhood.value_counts().describe()"
   ]
  },
  {
   "cell_type": "code",
   "execution_count": 599,
   "id": "naked-psychology",
   "metadata": {},
   "outputs": [
    {
     "data": {
      "image/png": "[encoded data removed]",
      "text/plain": [
       "<Figure size 576x576 with 1 Axes>"
      ]
     },
     "metadata": {
      "needs_background": "light"
     },
     "output_type": "display_data"
    }
   ],
   "source": [
    "Show_up.Neighbourhood.hist(alpha=0.5,bins=20,label='Show Up',figsize=(8,8));\n",
    "No_show.Neighbourhood.hist(alpha=0.5,bins=20,label='No Show',figsize=(8,8));\n",
    "plt.xticks(fontsize=5,rotation=90)\n",
    "plt.legend();"
   ]
  },
  {
   "cell_type": "code",
   "execution_count": 600,
   "id": "contrary-indonesia",
   "metadata": {},
   "outputs": [
    {
     "data": {
      "image/png": "[encoded data removed]",
      "text/plain": [
       "<Figure size 1440x1440 with 1 Axes>"
      ]
     },
     "metadata": {
      "needs_background": "light"
     },
     "output_type": "display_data"
    }
   ],
   "source": [
    "No_show.Neighbourhood.hist(bins=10,label='No Show',figsize=(20,20));\n",
    "plt.xticks(fontsize=10,rotation=90);\n"
   ]
  },
  {
   "cell_type": "markdown",
   "id": "fiscal-jaguar",
   "metadata": {},
   "source": [
    "It is still not clear "
   ]
  },
  {
   "cell_type": "code",
   "execution_count": 601,
   "id": "corresponding-artwork",
   "metadata": {},
   "outputs": [
    {
     "data": {
      "image/png": "[encoded data removed]",
      "text/plain": [
       "<Figure size 1440x1440 with 1 Axes>"
      ]
     },
     "metadata": {
      "needs_background": "light"
     },
     "output_type": "display_data"
    }
   ],
   "source": [
    "ax = df.groupby('Neighbourhood')['No_show'].mean().sort_values().plot(kind='barh',figsize=(20,20));\n",
    "ax.set_xlabel(\"Mean of No-show patients\",fontsize=25);\n",
    "ax.set_ylabel(\"Neighbourhood\", fontname=\"Arial\", fontsize=25);\n",
    "ax.set_title(\"No-shows over different Neighbourhoods \", fontname='Comic Sans MS', fontsize=30);\n"
   ]
  },
  {
   "cell_type": "code",
   "execution_count": 602,
   "id": "elder-jonathan",
   "metadata": {},
   "outputs": [
    {
     "data": {
      "text/plain": [
       "Neighbourhood\n",
       "ILHA DO BOI                    0.086957\n",
       "SOLON BORGES                   0.192878\n",
       "AEROPORTO                      0.200000\n",
       "DE LOURDES                     0.204545\n",
       "MORADA DE CAMBURI              0.205128\n",
       "                                 ...   \n",
       "HORTO                          0.359649\n",
       "ITARARÉ                        0.365053\n",
       "JESUS DE NAZARETH              0.374929\n",
       "GURIGICA                       0.383710\n",
       "ILHAS OCEÂNICAS DE TRINDADE    1.000000\n",
       "Name: No_show, Length: 80, dtype: float64"
      ]
     },
     "execution_count": 602,
     "metadata": {},
     "output_type": "execute_result"
    }
   ],
   "source": [
    "df.groupby('Neighbourhood')['No_show'].mean().sort_values()"
   ]
  },
  {
   "cell_type": "markdown",
   "id": "prostate-negotiation",
   "metadata": {},
   "source": [
    "So all patients from ILHAS OCEÂNICAS DE TRINDADE don't show up for their aapointment.\n",
    "According to \n",
    "<A href=\"https://www.google.com/maps/place/Trindade+Island/@-20.5071455,-29.3583158,13z/data=!3m1!4b1!4m5!3m4!1s0x135049e4943087d:0x2bdbf1e86691e27!8m2!3d-20.5080654!4d-29.3308425\"\n",
    "       title=\"Trindade Island\">Google Map</A> and \n",
    "<A href=\"https://en.wikipedia.org/wiki/Trindade_and_Martin_Vaz\"\n",
    "       title=\"Trindade and Martin Vaz\">wikipedia</A> , ILHAS OCEÂNICAS DE TRINDADE (Trindade Island) is an archipelago located in the South Atlantic Ocean about 1,100 kilometres (680 miles) east of the coast of the Brazilian state of Espírito Santo"
   ]
  },
  {
   "cell_type": "code",
   "execution_count": 603,
   "id": "lasting-article",
   "metadata": {},
   "outputs": [
    {
     "data": {
      "text/plain": [
       "2"
      ]
     },
     "execution_count": 603,
     "metadata": {},
     "output_type": "execute_result"
    }
   ],
   "source": [
    "df[df.Neighbourhood=='ILHAS OCEÂNICAS DE TRINDADE'].count()[0]"
   ]
  },
  {
   "cell_type": "markdown",
   "id": "photographic-argument",
   "metadata": {},
   "source": [
    "- It seems that the mean of No shows for ILHAS OCEÂNICAS DE TRINDADEit doesn't affect that much on data and we don't have enough amount of data to make a prediction of No-show \n",
    "- However, it seems that people from this island don't set medical appointments for some reasons such as; there are not many people living there anyway.\n"
   ]
  },
  {
   "cell_type": "markdown",
   "id": "smoking-genre",
   "metadata": {},
   "source": [
    "#### Removing the outliers"
   ]
  },
  {
   "cell_type": "code",
   "execution_count": 604,
   "id": "accessory-sensitivity",
   "metadata": {},
   "outputs": [],
   "source": [
    "dropped_outliers=df[df.Neighbourhood=='ILHAS OCEÂNICAS DE TRINDADE']\n",
    "df.drop(dropped_outliers.index,axis=0,inplace=True)"
   ]
  },
  {
   "cell_type": "code",
   "execution_count": 605,
   "id": "prospective-appreciation",
   "metadata": {},
   "outputs": [
    {
     "data": {
      "image/png": "[encoded data removed]",
      "text/plain": [
       "<Figure size 1440x1440 with 1 Axes>"
      ]
     },
     "metadata": {
      "needs_background": "light"
     },
     "output_type": "display_data"
    }
   ],
   "source": [
    "ax = df.groupby('Neighbourhood')['No_show'].mean().sort_values().plot(kind='barh',figsize=(20,20));\n",
    "ax.set_xlabel(\"Means of No-show patients\",fontsize=25);\n",
    "ax.set_ylabel(\"Neighbourhood\", fontname=\"Arial\", fontsize=25);\n",
    "ax.set_title(\"No-shows over different Neighbourhoods \", fontname='Comic Sans MS', fontsize=30);"
   ]
  },
  {
   "cell_type": "code",
   "execution_count": 606,
   "id": "higher-nirvana",
   "metadata": {},
   "outputs": [
    {
     "data": {
      "text/plain": [
       "Neighbourhood\n",
       "ILHA DO BOI          0.086957\n",
       "SOLON BORGES         0.192878\n",
       "AEROPORTO            0.200000\n",
       "DE LOURDES           0.204545\n",
       "MORADA DE CAMBURI    0.205128\n",
       "                       ...   \n",
       "SANTOS DUMONT        0.349315\n",
       "HORTO                0.359649\n",
       "ITARARÉ              0.365053\n",
       "JESUS DE NAZARETH    0.374929\n",
       "GURIGICA             0.383710\n",
       "Name: No_show, Length: 79, dtype: float64"
      ]
     },
     "execution_count": 606,
     "metadata": {},
     "output_type": "execute_result"
    }
   ],
   "source": [
    "df.groupby('Neighbourhood')['No_show'].mean().sort_values()"
   ]
  },
  {
   "cell_type": "code",
   "execution_count": 607,
   "id": "innocent-canadian",
   "metadata": {},
   "outputs": [
    {
     "data": {
      "text/plain": [
       "1105"
      ]
     },
     "execution_count": 607,
     "metadata": {},
     "output_type": "execute_result"
    }
   ],
   "source": [
    "df[df.Neighbourhood=='GURIGICA'].shape[0]"
   ]
  },
  {
   "cell_type": "code",
   "execution_count": 608,
   "id": "exempt-norfolk",
   "metadata": {},
   "outputs": [
    {
     "data": {
      "text/plain": [
       "No_show\n",
       "0    0.180617\n",
       "1    0.250000\n",
       "Name: Scholarship, dtype: float64"
      ]
     },
     "execution_count": 608,
     "metadata": {},
     "output_type": "execute_result"
    }
   ],
   "source": [
    "GURIGICA=df[df.Neighbourhood=='GURIGICA']\n",
    "GURIGICA.groupby('No_show')['Scholarship'].mean()"
   ]
  },
  {
   "cell_type": "code",
   "execution_count": 609,
   "id": "shaped-example",
   "metadata": {},
   "outputs": [
    {
     "data": {
      "text/plain": [
       "1755"
      ]
     },
     "execution_count": 609,
     "metadata": {},
     "output_type": "execute_result"
    }
   ],
   "source": [
    "df[df.Neighbourhood=='JESUS DE NAZARETH'].shape[0]\n"
   ]
  },
  {
   "cell_type": "code",
   "execution_count": 610,
   "id": "included-mainstream",
   "metadata": {},
   "outputs": [
    {
     "data": {
      "text/plain": [
       "23"
      ]
     },
     "execution_count": 610,
     "metadata": {},
     "output_type": "execute_result"
    }
   ],
   "source": [
    "df[df.Neighbourhood=='ILHA DO BOI'].shape[0]\n"
   ]
  },
  {
   "cell_type": "code",
   "execution_count": 611,
   "id": "homeless-might",
   "metadata": {},
   "outputs": [
    {
     "data": {
      "text/plain": [
       "0.033061877914665555"
      ]
     },
     "execution_count": 611,
     "metadata": {},
     "output_type": "execute_result"
    }
   ],
   "source": [
    "df[df.Neighbourhood=='ITARARÉ'].shape[0]/df.shape[0]\n"
   ]
  },
  {
   "cell_type": "code",
   "execution_count": 612,
   "id": "careful-somerset",
   "metadata": {},
   "outputs": [
    {
     "data": {
      "text/plain": [
       "No_show\n",
       "0    0\n",
       "1    0\n",
       "Name: Scholarship, dtype: int64"
      ]
     },
     "execution_count": 612,
     "metadata": {},
     "output_type": "execute_result"
    }
   ],
   "source": [
    "ILHA_DO_BOI=df[df.Neighbourhood=='ILHA DO BOI']\n",
    "ILHA_DO_BOI.groupby('No_show')['Scholarship'].mean()"
   ]
  },
  {
   "cell_type": "markdown",
   "id": "insured-oxide",
   "metadata": {},
   "source": [
    "### Q: How diseases correlate with each other and with poverty and location?"
   ]
  },
  {
   "cell_type": "markdown",
   "id": "multiple-endorsement",
   "metadata": {},
   "source": [
    "We turn back the outliers of loacation to make an analysis of the diseases"
   ]
  },
  {
   "cell_type": "code",
   "execution_count": 613,
   "id": "corresponding-portuguese",
   "metadata": {},
   "outputs": [],
   "source": [
    "df = pd.concat([df,dropped_outliers])"
   ]
  },
  {
   "cell_type": "code",
   "execution_count": 614,
   "id": "likely-services",
   "metadata": {},
   "outputs": [
    {
     "name": "stdout",
     "output_type": "stream",
     "text": [
      "<class 'pandas.core.frame.DataFrame'>\n",
      "Int64Index: 71837 entries, 5 to 48679\n",
      "Data columns (total 14 columns):\n",
      " #   Column                  Non-Null Count  Dtype              \n",
      "---  ------                  --------------  -----              \n",
      " 0   Gender                  71837 non-null  object             \n",
      " 1   RegistrationDay         71837 non-null  datetime64[ns, UTC]\n",
      " 2   AppointmentDay          71837 non-null  datetime64[ns, UTC]\n",
      " 3   Age                     71837 non-null  int64              \n",
      " 4   Neighbourhood           71837 non-null  object             \n",
      " 5   Scholarship             71837 non-null  int64              \n",
      " 6   Hipertension            71837 non-null  int64              \n",
      " 7   Diabetes                71837 non-null  int64              \n",
      " 8   Alcoholism              71837 non-null  int64              \n",
      " 9   Handicap                71837 non-null  int64              \n",
      " 10  SMS_received            71837 non-null  int64              \n",
      " 11  No_show                 71837 non-null  int64              \n",
      " 12  Registration_DayOfWeek  71837 non-null  object             \n",
      " 13  WaitingPeriod           71837 non-null  int64              \n",
      "dtypes: datetime64[ns, UTC](2), int64(9), object(3)\n",
      "memory usage: 8.2+ MB\n"
     ]
    }
   ],
   "source": [
    "df.info()"
   ]
  },
  {
   "cell_type": "code",
   "execution_count": 615,
   "id": "postal-stocks",
   "metadata": {},
   "outputs": [
    {
     "data": {
      "text/html": [
       "<div>\n",
       "<style scoped>\n",
       "    .dataframe tbody tr th:only-of-type {\n",
       "        vertical-align: middle;\n",
       "    }\n",
       "\n",
       "    .dataframe tbody tr th {\n",
       "        vertical-align: top;\n",
       "    }\n",
       "\n",
       "    .dataframe thead th {\n",
       "        text-align: right;\n",
       "    }\n",
       "</style>\n",
       "<table border=\"1\" class=\"dataframe\">\n",
       "  <thead>\n",
       "    <tr style=\"text-align: right;\">\n",
       "      <th></th>\n",
       "      <th>Gender</th>\n",
       "      <th>RegistrationDay</th>\n",
       "      <th>AppointmentDay</th>\n",
       "      <th>Age</th>\n",
       "      <th>Neighbourhood</th>\n",
       "      <th>Scholarship</th>\n",
       "      <th>Hipertension</th>\n",
       "      <th>Diabetes</th>\n",
       "      <th>Alcoholism</th>\n",
       "      <th>Handicap</th>\n",
       "      <th>SMS_received</th>\n",
       "      <th>No_show</th>\n",
       "      <th>Registration_DayOfWeek</th>\n",
       "      <th>WaitingPeriod</th>\n",
       "    </tr>\n",
       "  </thead>\n",
       "  <tbody>\n",
       "    <tr>\n",
       "      <th>44</th>\n",
       "      <td>F</td>\n",
       "      <td>2016-04-28 13:27:27+00:00</td>\n",
       "      <td>2016-04-29 00:00:00+00:00</td>\n",
       "      <td>78</td>\n",
       "      <td>SÃO CRISTÓVÃO</td>\n",
       "      <td>0</td>\n",
       "      <td>1</td>\n",
       "      <td>1</td>\n",
       "      <td>0</td>\n",
       "      <td>0</td>\n",
       "      <td>0</td>\n",
       "      <td>1</td>\n",
       "      <td>4</td>\n",
       "      <td>0</td>\n",
       "    </tr>\n",
       "    <tr>\n",
       "      <th>47</th>\n",
       "      <td>F</td>\n",
       "      <td>2016-04-28 08:51:26+00:00</td>\n",
       "      <td>2016-04-29 00:00:00+00:00</td>\n",
       "      <td>39</td>\n",
       "      <td>MARUÍPE</td>\n",
       "      <td>0</td>\n",
       "      <td>1</td>\n",
       "      <td>1</td>\n",
       "      <td>0</td>\n",
       "      <td>0</td>\n",
       "      <td>0</td>\n",
       "      <td>0</td>\n",
       "      <td>4</td>\n",
       "      <td>0</td>\n",
       "    </tr>\n",
       "    <tr>\n",
       "      <th>73</th>\n",
       "      <td>F</td>\n",
       "      <td>2016-04-06 18:12:38+00:00</td>\n",
       "      <td>2016-04-29 00:00:00+00:00</td>\n",
       "      <td>68</td>\n",
       "      <td>REPÚBLICA</td>\n",
       "      <td>0</td>\n",
       "      <td>1</td>\n",
       "      <td>1</td>\n",
       "      <td>0</td>\n",
       "      <td>0</td>\n",
       "      <td>1</td>\n",
       "      <td>0</td>\n",
       "      <td>3</td>\n",
       "      <td>22</td>\n",
       "    </tr>\n",
       "    <tr>\n",
       "      <th>112</th>\n",
       "      <td>F</td>\n",
       "      <td>2016-04-18 11:05:04+00:00</td>\n",
       "      <td>2016-04-29 00:00:00+00:00</td>\n",
       "      <td>59</td>\n",
       "      <td>SANTO ANTÔNIO</td>\n",
       "      <td>0</td>\n",
       "      <td>1</td>\n",
       "      <td>1</td>\n",
       "      <td>0</td>\n",
       "      <td>0</td>\n",
       "      <td>1</td>\n",
       "      <td>0</td>\n",
       "      <td>1</td>\n",
       "      <td>10</td>\n",
       "    </tr>\n",
       "    <tr>\n",
       "      <th>127</th>\n",
       "      <td>M</td>\n",
       "      <td>2016-04-08 10:14:36+00:00</td>\n",
       "      <td>2016-04-29 00:00:00+00:00</td>\n",
       "      <td>42</td>\n",
       "      <td>PRAIA DO SUÁ</td>\n",
       "      <td>0</td>\n",
       "      <td>1</td>\n",
       "      <td>1</td>\n",
       "      <td>0</td>\n",
       "      <td>0</td>\n",
       "      <td>1</td>\n",
       "      <td>0</td>\n",
       "      <td>5</td>\n",
       "      <td>20</td>\n",
       "    </tr>\n",
       "    <tr>\n",
       "      <th>...</th>\n",
       "      <td>...</td>\n",
       "      <td>...</td>\n",
       "      <td>...</td>\n",
       "      <td>...</td>\n",
       "      <td>...</td>\n",
       "      <td>...</td>\n",
       "      <td>...</td>\n",
       "      <td>...</td>\n",
       "      <td>...</td>\n",
       "      <td>...</td>\n",
       "      <td>...</td>\n",
       "      <td>...</td>\n",
       "      <td>...</td>\n",
       "      <td>...</td>\n",
       "    </tr>\n",
       "    <tr>\n",
       "      <th>109951</th>\n",
       "      <td>M</td>\n",
       "      <td>2016-06-03 15:11:50+00:00</td>\n",
       "      <td>2016-06-07 00:00:00+00:00</td>\n",
       "      <td>64</td>\n",
       "      <td>SANTA MARTHA</td>\n",
       "      <td>0</td>\n",
       "      <td>1</td>\n",
       "      <td>1</td>\n",
       "      <td>0</td>\n",
       "      <td>0</td>\n",
       "      <td>1</td>\n",
       "      <td>0</td>\n",
       "      <td>5</td>\n",
       "      <td>3</td>\n",
       "    </tr>\n",
       "    <tr>\n",
       "      <th>109968</th>\n",
       "      <td>M</td>\n",
       "      <td>2016-06-01 08:42:49+00:00</td>\n",
       "      <td>2016-06-03 00:00:00+00:00</td>\n",
       "      <td>50</td>\n",
       "      <td>SANTO ANTÔNIO</td>\n",
       "      <td>0</td>\n",
       "      <td>1</td>\n",
       "      <td>1</td>\n",
       "      <td>1</td>\n",
       "      <td>0</td>\n",
       "      <td>0</td>\n",
       "      <td>1</td>\n",
       "      <td>3</td>\n",
       "      <td>1</td>\n",
       "    </tr>\n",
       "    <tr>\n",
       "      <th>110105</th>\n",
       "      <td>F</td>\n",
       "      <td>2016-05-31 12:22:13+00:00</td>\n",
       "      <td>2016-06-02 00:00:00+00:00</td>\n",
       "      <td>56</td>\n",
       "      <td>BENTO FERREIRA</td>\n",
       "      <td>0</td>\n",
       "      <td>1</td>\n",
       "      <td>1</td>\n",
       "      <td>0</td>\n",
       "      <td>0</td>\n",
       "      <td>0</td>\n",
       "      <td>0</td>\n",
       "      <td>2</td>\n",
       "      <td>1</td>\n",
       "    </tr>\n",
       "    <tr>\n",
       "      <th>110248</th>\n",
       "      <td>F</td>\n",
       "      <td>2016-06-01 07:56:41+00:00</td>\n",
       "      <td>2016-06-06 00:00:00+00:00</td>\n",
       "      <td>40</td>\n",
       "      <td>RESISTÊNCIA</td>\n",
       "      <td>0</td>\n",
       "      <td>1</td>\n",
       "      <td>1</td>\n",
       "      <td>0</td>\n",
       "      <td>0</td>\n",
       "      <td>1</td>\n",
       "      <td>0</td>\n",
       "      <td>3</td>\n",
       "      <td>4</td>\n",
       "    </tr>\n",
       "    <tr>\n",
       "      <th>110268</th>\n",
       "      <td>F</td>\n",
       "      <td>2016-06-02 08:49:21+00:00</td>\n",
       "      <td>2016-06-07 00:00:00+00:00</td>\n",
       "      <td>76</td>\n",
       "      <td>RESISTÊNCIA</td>\n",
       "      <td>0</td>\n",
       "      <td>1</td>\n",
       "      <td>1</td>\n",
       "      <td>0</td>\n",
       "      <td>0</td>\n",
       "      <td>1</td>\n",
       "      <td>0</td>\n",
       "      <td>4</td>\n",
       "      <td>4</td>\n",
       "    </tr>\n",
       "  </tbody>\n",
       "</table>\n",
       "<p>4369 rows × 14 columns</p>\n",
       "</div>"
      ],
      "text/plain": [
       "       Gender           RegistrationDay            AppointmentDay  Age  \\\n",
       "44          F 2016-04-28 13:27:27+00:00 2016-04-29 00:00:00+00:00   78   \n",
       "47          F 2016-04-28 08:51:26+00:00 2016-04-29 00:00:00+00:00   39   \n",
       "73          F 2016-04-06 18:12:38+00:00 2016-04-29 00:00:00+00:00   68   \n",
       "112         F 2016-04-18 11:05:04+00:00 2016-04-29 00:00:00+00:00   59   \n",
       "127         M 2016-04-08 10:14:36+00:00 2016-04-29 00:00:00+00:00   42   \n",
       "...       ...                       ...                       ...  ...   \n",
       "109951      M 2016-06-03 15:11:50+00:00 2016-06-07 00:00:00+00:00   64   \n",
       "109968      M 2016-06-01 08:42:49+00:00 2016-06-03 00:00:00+00:00   50   \n",
       "110105      F 2016-05-31 12:22:13+00:00 2016-06-02 00:00:00+00:00   56   \n",
       "110248      F 2016-06-01 07:56:41+00:00 2016-06-06 00:00:00+00:00   40   \n",
       "110268      F 2016-06-02 08:49:21+00:00 2016-06-07 00:00:00+00:00   76   \n",
       "\n",
       "         Neighbourhood  Scholarship  Hipertension  Diabetes  Alcoholism  \\\n",
       "44       SÃO CRISTÓVÃO            0             1         1           0   \n",
       "47             MARUÍPE            0             1         1           0   \n",
       "73           REPÚBLICA            0             1         1           0   \n",
       "112      SANTO ANTÔNIO            0             1         1           0   \n",
       "127       PRAIA DO SUÁ            0             1         1           0   \n",
       "...                ...          ...           ...       ...         ...   \n",
       "109951    SANTA MARTHA            0             1         1           0   \n",
       "109968   SANTO ANTÔNIO            0             1         1           1   \n",
       "110105  BENTO FERREIRA            0             1         1           0   \n",
       "110248     RESISTÊNCIA            0             1         1           0   \n",
       "110268     RESISTÊNCIA            0             1         1           0   \n",
       "\n",
       "        Handicap  SMS_received  No_show Registration_DayOfWeek  WaitingPeriod  \n",
       "44             0             0        1                      4              0  \n",
       "47             0             0        0                      4              0  \n",
       "73             0             1        0                      3             22  \n",
       "112            0             1        0                      1             10  \n",
       "127            0             1        0                      5             20  \n",
       "...          ...           ...      ...                    ...            ...  \n",
       "109951         0             1        0                      5              3  \n",
       "109968         0             0        1                      3              1  \n",
       "110105         0             0        0                      2              1  \n",
       "110248         0             1        0                      3              4  \n",
       "110268         0             1        0                      4              4  \n",
       "\n",
       "[4369 rows x 14 columns]"
      ]
     },
     "execution_count": 615,
     "metadata": {},
     "output_type": "execute_result"
    }
   ],
   "source": [
    "No_hiper=df[df['Hipertension']==1]\n",
    "No_d=No_hiper[No_hiper['Diabetes']==1]\n",
    "No_d"
   ]
  },
  {
   "cell_type": "markdown",
   "id": "attached-logan",
   "metadata": {},
   "source": [
    "#### Correlation between Hipertension and Diabetes"
   ]
  },
  {
   "cell_type": "code",
   "execution_count": 616,
   "id": "second-purse",
   "metadata": {},
   "outputs": [
    {
     "data": {
      "text/plain": [
       "4369"
      ]
     },
     "execution_count": 616,
     "metadata": {},
     "output_type": "execute_result"
    }
   ],
   "source": [
    "df.query('Diabetes == 1')['Hipertension'].sum()"
   ]
  },
  {
   "cell_type": "code",
   "execution_count": 617,
   "id": "earned-livestock",
   "metadata": {},
   "outputs": [
    {
     "data": {
      "text/html": [
       "<div>\n",
       "<style scoped>\n",
       "    .dataframe tbody tr th:only-of-type {\n",
       "        vertical-align: middle;\n",
       "    }\n",
       "\n",
       "    .dataframe tbody tr th {\n",
       "        vertical-align: top;\n",
       "    }\n",
       "\n",
       "    .dataframe thead th {\n",
       "        text-align: right;\n",
       "    }\n",
       "</style>\n",
       "<table border=\"1\" class=\"dataframe\">\n",
       "  <thead>\n",
       "    <tr style=\"text-align: right;\">\n",
       "      <th></th>\n",
       "      <th>Hipertension Average</th>\n",
       "    </tr>\n",
       "  </thead>\n",
       "  <tbody>\n",
       "    <tr>\n",
       "      <th>0</th>\n",
       "      <td>0.816941</td>\n",
       "    </tr>\n",
       "    <tr>\n",
       "      <th>1</th>\n",
       "      <td>0.183059</td>\n",
       "    </tr>\n",
       "  </tbody>\n",
       "</table>\n",
       "</div>"
      ],
      "text/plain": [
       "   Hipertension Average\n",
       "0              0.816941\n",
       "1              0.183059"
      ]
     },
     "execution_count": 617,
     "metadata": {},
     "output_type": "execute_result"
    }
   ],
   "source": [
    "Hip_dia=df.query('Diabetes == 1')['Hipertension'].mean()\n",
    "d = {\"Hipertension Average\": [Hip_dia, 1-Hip_dia]}\n",
    "f = pd.DataFrame(data=d)\n",
    "f"
   ]
  },
  {
   "cell_type": "code",
   "execution_count": 618,
   "id": "apparent-salmon",
   "metadata": {},
   "outputs": [
    {
     "data": {
      "image/png": "[encoded data removed]",
      "text/plain": [
       "<Figure size 432x288 with 1 Axes>"
      ]
     },
     "metadata": {},
     "output_type": "display_data"
    }
   ],
   "source": [
    "a=f.plot(kind='pie', autopct='%.2f' ,labels=['Yes','No'],subplots=True);\n",
    "plt.xlabel(\"Diabetes\",fontsize=25);\n",
    "plt.ylabel(\"Hipertension\", fontname=\"Arial\", fontsize=25);\n",
    "plt.title(\"The correlation between Diabetes and Hipertension\", fontname='Comic Sans MS', fontsize=20);\n",
    "plt.legend(loc=3, labels=['Diabetics having Hipertension','Diabetics not having Hipertension']);"
   ]
  },
  {
   "cell_type": "markdown",
   "id": "sunrise-assault",
   "metadata": {},
   "source": [
    "- Diabetics are most likely to have hipertension\n",
    "- 81.69% of diabetics suffer from hipertension\n"
   ]
  },
  {
   "cell_type": "code",
   "execution_count": 619,
   "id": "abstract-wisconsin",
   "metadata": {},
   "outputs": [
    {
     "data": {
      "text/html": [
       "<div>\n",
       "<style scoped>\n",
       "    .dataframe tbody tr th:only-of-type {\n",
       "        vertical-align: middle;\n",
       "    }\n",
       "\n",
       "    .dataframe tbody tr th {\n",
       "        vertical-align: top;\n",
       "    }\n",
       "\n",
       "    .dataframe thead th {\n",
       "        text-align: right;\n",
       "    }\n",
       "</style>\n",
       "<table border=\"1\" class=\"dataframe\">\n",
       "  <thead>\n",
       "    <tr style=\"text-align: right;\">\n",
       "      <th></th>\n",
       "      <th>Diabetes Average</th>\n",
       "    </tr>\n",
       "  </thead>\n",
       "  <tbody>\n",
       "    <tr>\n",
       "      <th>0</th>\n",
       "      <td>0.291714</td>\n",
       "    </tr>\n",
       "    <tr>\n",
       "      <th>1</th>\n",
       "      <td>0.708286</td>\n",
       "    </tr>\n",
       "  </tbody>\n",
       "</table>\n",
       "</div>"
      ],
      "text/plain": [
       "   Diabetes Average\n",
       "0          0.291714\n",
       "1          0.708286"
      ]
     },
     "execution_count": 619,
     "metadata": {},
     "output_type": "execute_result"
    }
   ],
   "source": [
    "Hip_dia=df.query('Hipertension == 1')['Diabetes'].mean()\n",
    "d = {\"Diabetes Average\": [Hip_dia, 1-Hip_dia]}\n",
    "f = pd.DataFrame(data=d)\n",
    "f"
   ]
  },
  {
   "cell_type": "code",
   "execution_count": 621,
   "id": "everyday-romance",
   "metadata": {},
   "outputs": [
    {
     "data": {
      "image/png": "[encoded data removed]",
      "text/plain": [
       "<Figure size 432x288 with 1 Axes>"
      ]
     },
     "metadata": {},
     "output_type": "display_data"
    }
   ],
   "source": [
    "a=f.plot(kind='pie', autopct='%.2f' ,labels=['Yes','No'],subplots=True);\n",
    "plt.xlabel(\"Hipertension\",fontsize=25);\n",
    "plt.ylabel(\"Diabetes\", fontname=\"Arial\", fontsize=25);\n",
    "plt.title(\"The correlation between Diabetes and Hipertension\", fontname='Comic Sans MS', fontsize=20);\n",
    "plt.legend(loc=3, labels=['Hipertension patients having Diabetes','Hipertension patients not having Diabetes']);"
   ]
  },
  {
   "cell_type": "markdown",
   "id": "reflected-border",
   "metadata": {},
   "source": [
    "#### Correlation between Hipertension and Alcoholism"
   ]
  },
  {
   "cell_type": "code",
   "execution_count": 622,
   "id": "comparable-national",
   "metadata": {},
   "outputs": [
    {
     "data": {
      "text/html": [
       "<div>\n",
       "<style scoped>\n",
       "    .dataframe tbody tr th:only-of-type {\n",
       "        vertical-align: middle;\n",
       "    }\n",
       "\n",
       "    .dataframe tbody tr th {\n",
       "        vertical-align: top;\n",
       "    }\n",
       "\n",
       "    .dataframe thead th {\n",
       "        text-align: right;\n",
       "    }\n",
       "</style>\n",
       "<table border=\"1\" class=\"dataframe\">\n",
       "  <thead>\n",
       "    <tr style=\"text-align: right;\">\n",
       "      <th></th>\n",
       "      <th>Hipertension Average</th>\n",
       "    </tr>\n",
       "  </thead>\n",
       "  <tbody>\n",
       "    <tr>\n",
       "      <th>0</th>\n",
       "      <td>0.425344</td>\n",
       "    </tr>\n",
       "    <tr>\n",
       "      <th>1</th>\n",
       "      <td>0.574656</td>\n",
       "    </tr>\n",
       "  </tbody>\n",
       "</table>\n",
       "</div>"
      ],
      "text/plain": [
       "   Hipertension Average\n",
       "0              0.425344\n",
       "1              0.574656"
      ]
     },
     "execution_count": 622,
     "metadata": {},
     "output_type": "execute_result"
    }
   ],
   "source": [
    "Hip_alc=df.query('Alcoholism == 1')['Hipertension'].mean()\n",
    "d = {\"Hipertension Average\": [Hip_alc, 1-Hip_alc]}\n",
    "f = pd.DataFrame(data=d)\n",
    "f"
   ]
  },
  {
   "cell_type": "code",
   "execution_count": 623,
   "id": "absolute-template",
   "metadata": {},
   "outputs": [
    {
     "data": {
      "image/png": "[encoded data removed]",
      "text/plain": [
       "<Figure size 432x288 with 1 Axes>"
      ]
     },
     "metadata": {},
     "output_type": "display_data"
    }
   ],
   "source": [
    "a=f.plot(kind='pie', autopct='%.2f' ,labels=['Yes','No'],subplots=True);\n",
    "plt.xlabel(\"Alcoholism\",fontsize=25);\n",
    "plt.ylabel(\"Hipertension\", fontname=\"Arial\", fontsize=25);\n",
    "plt.title(\"The correlation between Alcoholism and Hipertension\", fontname='Comic Sans MS', fontsize=20);\n",
    "plt.legend(loc=3, labels=['alcoholics having Hipertension','alcoholics not having Hipertension']);"
   ]
  },
  {
   "cell_type": "markdown",
   "id": "crazy-payday",
   "metadata": {},
   "source": [
    "42.53% of paients who suffer from alcoholism suffer from Hipertension"
   ]
  },
  {
   "cell_type": "code",
   "execution_count": 624,
   "id": "talented-ballot",
   "metadata": {},
   "outputs": [
    {
     "data": {
      "text/html": [
       "<div>\n",
       "<style scoped>\n",
       "    .dataframe tbody tr th:only-of-type {\n",
       "        vertical-align: middle;\n",
       "    }\n",
       "\n",
       "    .dataframe tbody tr th {\n",
       "        vertical-align: top;\n",
       "    }\n",
       "\n",
       "    .dataframe thead th {\n",
       "        text-align: right;\n",
       "    }\n",
       "</style>\n",
       "<table border=\"1\" class=\"dataframe\">\n",
       "  <thead>\n",
       "    <tr style=\"text-align: right;\">\n",
       "      <th></th>\n",
       "      <th>Alcoholism Average</th>\n",
       "    </tr>\n",
       "  </thead>\n",
       "  <tbody>\n",
       "    <tr>\n",
       "      <th>0</th>\n",
       "      <td>0.051546</td>\n",
       "    </tr>\n",
       "    <tr>\n",
       "      <th>1</th>\n",
       "      <td>0.948454</td>\n",
       "    </tr>\n",
       "  </tbody>\n",
       "</table>\n",
       "</div>"
      ],
      "text/plain": [
       "   Alcoholism Average\n",
       "0            0.051546\n",
       "1            0.948454"
      ]
     },
     "execution_count": 624,
     "metadata": {},
     "output_type": "execute_result"
    }
   ],
   "source": [
    "Hip_alc=df.query('Hipertension == 1')['Alcoholism'].mean()\n",
    "d = {\"Alcoholism Average\": [Hip_alc, 1-Hip_alc]}\n",
    "f = pd.DataFrame(data=d)\n",
    "f"
   ]
  },
  {
   "cell_type": "code",
   "execution_count": 625,
   "id": "measured-hunger",
   "metadata": {},
   "outputs": [
    {
     "data": {
      "image/png": "[encoded data removed]",
      "text/plain": [
       "<Figure size 432x288 with 1 Axes>"
      ]
     },
     "metadata": {},
     "output_type": "display_data"
    }
   ],
   "source": [
    "a=f.plot(kind='pie', autopct='%.2f' ,labels=['Yes','No'],subplots=True);\n",
    "plt.xlabel(\"Hipertension\",fontsize=25);\n",
    "plt.ylabel(\"Alcoholism\", fontname=\"Arial\", fontsize=25);\n",
    "plt.title(\"The correlation between Alcoholism and Hipertension\", fontname='Comic Sans MS', fontsize=20);\n",
    "plt.legend(loc=3, labels=['Hipertension patients having Alcoholism','Hipertension patients having Alcoholism']);"
   ]
  },
  {
   "cell_type": "markdown",
   "id": "alleged-screening",
   "metadata": {},
   "source": [
    "5.15% of hipertension patients are alcoholics"
   ]
  },
  {
   "cell_type": "markdown",
   "id": "shared-zoning",
   "metadata": {},
   "source": [
    "#### Correlation between Handicap and Alcoholism"
   ]
  },
  {
   "cell_type": "code",
   "execution_count": 626,
   "id": "funky-manor",
   "metadata": {},
   "outputs": [
    {
     "data": {
      "text/html": [
       "<div>\n",
       "<style scoped>\n",
       "    .dataframe tbody tr th:only-of-type {\n",
       "        vertical-align: middle;\n",
       "    }\n",
       "\n",
       "    .dataframe tbody tr th {\n",
       "        vertical-align: top;\n",
       "    }\n",
       "\n",
       "    .dataframe thead th {\n",
       "        text-align: right;\n",
       "    }\n",
       "</style>\n",
       "<table border=\"1\" class=\"dataframe\">\n",
       "  <thead>\n",
       "    <tr style=\"text-align: right;\">\n",
       "      <th></th>\n",
       "      <th>alcoholics Average</th>\n",
       "    </tr>\n",
       "  </thead>\n",
       "  <tbody>\n",
       "    <tr>\n",
       "      <th>0</th>\n",
       "      <td>0.036287</td>\n",
       "    </tr>\n",
       "    <tr>\n",
       "      <th>1</th>\n",
       "      <td>0.963713</td>\n",
       "    </tr>\n",
       "  </tbody>\n",
       "</table>\n",
       "</div>"
      ],
      "text/plain": [
       "   alcoholics Average\n",
       "0            0.036287\n",
       "1            0.963713"
      ]
     },
     "execution_count": 626,
     "metadata": {},
     "output_type": "execute_result"
    }
   ],
   "source": [
    "Hand_alc=df.query('Handicap == 1')['Alcoholism'].mean()\n",
    "d = {\"alcoholics Average\": [Hand_alc, 1-Hand_alc]}\n",
    "f = pd.DataFrame(data=d)\n",
    "f"
   ]
  },
  {
   "cell_type": "code",
   "execution_count": 627,
   "id": "silent-republic",
   "metadata": {},
   "outputs": [
    {
     "data": {
      "image/png": "[encoded data removed]",
      "text/plain": [
       "<Figure size 432x288 with 1 Axes>"
      ]
     },
     "metadata": {},
     "output_type": "display_data"
    }
   ],
   "source": [
    "a=f.plot(kind='pie', autopct='%.2f' ,labels=['Yes','No'],subplots=True);\n",
    "plt.xlabel(\"Handicap\",fontsize=25);\n",
    "plt.ylabel(\"Alcoholism\", fontname=\"Arial\", fontsize=25);\n",
    "plt.title(\"The correlation between Alcoholism and Handicap\", fontname='Comic Sans MS', fontsize=20);\n",
    "plt.legend(loc=3, labels=['Handicapped patients having Alcoholism','Handicapped patients not having Alcoholism']);"
   ]
  },
  {
   "cell_type": "markdown",
   "id": "atomic-conclusion",
   "metadata": {},
   "source": [
    "96.37% of handicapped patients don't get alcohol"
   ]
  },
  {
   "cell_type": "code",
   "execution_count": 628,
   "id": "saved-guatemala",
   "metadata": {},
   "outputs": [
    {
     "data": {
      "text/html": [
       "<div>\n",
       "<style scoped>\n",
       "    .dataframe tbody tr th:only-of-type {\n",
       "        vertical-align: middle;\n",
       "    }\n",
       "\n",
       "    .dataframe tbody tr th {\n",
       "        vertical-align: top;\n",
       "    }\n",
       "\n",
       "    .dataframe thead th {\n",
       "        text-align: right;\n",
       "    }\n",
       "</style>\n",
       "<table border=\"1\" class=\"dataframe\">\n",
       "  <thead>\n",
       "    <tr style=\"text-align: right;\">\n",
       "      <th></th>\n",
       "      <th>Handicapped Average</th>\n",
       "    </tr>\n",
       "  </thead>\n",
       "  <tbody>\n",
       "    <tr>\n",
       "      <th>0</th>\n",
       "      <td>0.023691</td>\n",
       "    </tr>\n",
       "    <tr>\n",
       "      <th>1</th>\n",
       "      <td>0.976309</td>\n",
       "    </tr>\n",
       "  </tbody>\n",
       "</table>\n",
       "</div>"
      ],
      "text/plain": [
       "   Handicapped Average\n",
       "0             0.023691\n",
       "1             0.976309"
      ]
     },
     "execution_count": 628,
     "metadata": {},
     "output_type": "execute_result"
    }
   ],
   "source": [
    "Hand_alc=df.query('Alcoholism == 1')['Handicap'].mean()\n",
    "d = {\"Handicapped Average\": [Hand_alc, 1-Hand_alc]}\n",
    "f = pd.DataFrame(data=d)\n",
    "f"
   ]
  },
  {
   "cell_type": "code",
   "execution_count": 629,
   "id": "joint-quebec",
   "metadata": {},
   "outputs": [
    {
     "data": {
      "image/png": "[encoded data removed]",
      "text/plain": [
       "<Figure size 432x288 with 1 Axes>"
      ]
     },
     "metadata": {},
     "output_type": "display_data"
    }
   ],
   "source": [
    "a=f.plot(kind='pie', autopct='%.2f' ,labels=['Yes','No'],subplots=True);\n",
    "plt.xlabel(\"Alcoholism\",fontsize=25);\n",
    "plt.ylabel(\"Handicap\", fontname=\"Arial\", fontsize=25);\n",
    "plt.title(\"The correlation between Alcoholism and Handicap\", fontname='Comic Sans MS', fontsize=20);\n",
    "plt.legend(loc=3, labels=['Alcoholics having handicap','Alcoholics not having handicap']);"
   ]
  },
  {
   "cell_type": "markdown",
   "id": "thorough-sphere",
   "metadata": {},
   "source": [
    "2.37% of alcoholics having a handicap"
   ]
  },
  {
   "cell_type": "markdown",
   "id": "attempted-dubai",
   "metadata": {},
   "source": [
    "#### Correlation between Diabetes and Alcoholism"
   ]
  },
  {
   "cell_type": "code",
   "execution_count": 630,
   "id": "compact-degree",
   "metadata": {},
   "outputs": [
    {
     "data": {
      "text/html": [
       "<div>\n",
       "<style scoped>\n",
       "    .dataframe tbody tr th:only-of-type {\n",
       "        vertical-align: middle;\n",
       "    }\n",
       "\n",
       "    .dataframe tbody tr th {\n",
       "        vertical-align: top;\n",
       "    }\n",
       "\n",
       "    .dataframe thead th {\n",
       "        text-align: right;\n",
       "    }\n",
       "</style>\n",
       "<table border=\"1\" class=\"dataframe\">\n",
       "  <thead>\n",
       "    <tr style=\"text-align: right;\">\n",
       "      <th></th>\n",
       "      <th>Alcoholics Average</th>\n",
       "    </tr>\n",
       "  </thead>\n",
       "  <tbody>\n",
       "    <tr>\n",
       "      <th>0</th>\n",
       "      <td>0.038706</td>\n",
       "    </tr>\n",
       "    <tr>\n",
       "      <th>1</th>\n",
       "      <td>0.961294</td>\n",
       "    </tr>\n",
       "  </tbody>\n",
       "</table>\n",
       "</div>"
      ],
      "text/plain": [
       "   Alcoholics Average\n",
       "0            0.038706\n",
       "1            0.961294"
      ]
     },
     "execution_count": 630,
     "metadata": {},
     "output_type": "execute_result"
    }
   ],
   "source": [
    "Dia_alc=df.query('Diabetes == 1')['Alcoholism'].mean()\n",
    "d = {\"Alcoholics Average\": [Dia_alc, 1-Dia_alc]}\n",
    "f = pd.DataFrame(data=d)\n",
    "f"
   ]
  },
  {
   "cell_type": "code",
   "execution_count": 631,
   "id": "abroad-theater",
   "metadata": {},
   "outputs": [
    {
     "data": {
      "image/png": "[encoded data removed]",
      "text/plain": [
       "<Figure size 432x288 with 1 Axes>"
      ]
     },
     "metadata": {},
     "output_type": "display_data"
    }
   ],
   "source": [
    "a=f.plot(kind='pie', autopct='%.2f' ,labels=['Yes','No'],subplots=True);\n",
    "plt.xlabel(\"Diabetics\",fontsize=25);\n",
    "plt.ylabel(\"Alcoholism\", fontname=\"Arial\", fontsize=25);\n",
    "plt.title(\"The correlation between Alcoholism and Diabetes\", fontname='Comic Sans MS', fontsize=20);\n",
    "plt.legend(loc=3, labels=['Diabetics having Alcoholism','Diabetics not having Alcoholism']);"
   ]
  },
  {
   "cell_type": "markdown",
   "id": "original-casting",
   "metadata": {},
   "source": [
    "3.87% of Diabetics suffer from alcoholism"
   ]
  },
  {
   "cell_type": "code",
   "execution_count": 632,
   "id": "innocent-knock",
   "metadata": {},
   "outputs": [
    {
     "data": {
      "text/html": [
       "<div>\n",
       "<style scoped>\n",
       "    .dataframe tbody tr th:only-of-type {\n",
       "        vertical-align: middle;\n",
       "    }\n",
       "\n",
       "    .dataframe tbody tr th {\n",
       "        vertical-align: top;\n",
       "    }\n",
       "\n",
       "    .dataframe thead th {\n",
       "        text-align: right;\n",
       "    }\n",
       "</style>\n",
       "<table border=\"1\" class=\"dataframe\">\n",
       "  <thead>\n",
       "    <tr style=\"text-align: right;\">\n",
       "      <th></th>\n",
       "      <th>Diabetes Average</th>\n",
       "    </tr>\n",
       "  </thead>\n",
       "  <tbody>\n",
       "    <tr>\n",
       "      <th>0</th>\n",
       "      <td>0.11405</td>\n",
       "    </tr>\n",
       "    <tr>\n",
       "      <th>1</th>\n",
       "      <td>0.88595</td>\n",
       "    </tr>\n",
       "  </tbody>\n",
       "</table>\n",
       "</div>"
      ],
      "text/plain": [
       "   Diabetes Average\n",
       "0           0.11405\n",
       "1           0.88595"
      ]
     },
     "execution_count": 632,
     "metadata": {},
     "output_type": "execute_result"
    }
   ],
   "source": [
    "Dia_alc=df.query('Alcoholism == 1')['Diabetes'].mean()\n",
    "d = {\"Diabetes Average\": [Dia_alc, 1-Dia_alc]}\n",
    "f = pd.DataFrame(data=d)\n",
    "f"
   ]
  },
  {
   "cell_type": "code",
   "execution_count": 633,
   "id": "timely-chorus",
   "metadata": {},
   "outputs": [
    {
     "data": {
      "image/png": "[encoded data removed]",
      "text/plain": [
       "<Figure size 432x288 with 1 Axes>"
      ]
     },
     "metadata": {},
     "output_type": "display_data"
    }
   ],
   "source": [
    "a=f.plot(kind='pie', autopct='%.2f' ,labels=['Yes','No'],subplots=True);\n",
    "plt.xlabel(\"Alcoholism\",fontsize=25);\n",
    "plt.ylabel(\"Diabetes\", fontname=\"Arial\", fontsize=25);\n",
    "plt.title(\"The correlation between Alcoholism and Diabetes\", fontname='Comic Sans MS', fontsize=20);\n",
    "plt.legend(loc=3, labels=['Alcoholics having diabetes','Alcoholics not having diabetes']);"
   ]
  },
  {
   "cell_type": "markdown",
   "id": "ancient-bridge",
   "metadata": {},
   "source": [
    "11.4% of alcoholics suffer from diabetes"
   ]
  },
  {
   "cell_type": "markdown",
   "id": "aging-stocks",
   "metadata": {},
   "source": [
    "## Limitations"
   ]
  },
  {
   "cell_type": "markdown",
   "id": "optical-sarah",
   "metadata": {},
   "source": [
    "- Many data was removed for being inaccurate and illogic. However, removing data leads for smaller size of the sample.\n",
    "- There are several treatments for inaccurate data other than removing:\n",
    "    - Using Machine Learning\n",
    "    - Backward or Forward expectation\n",
    "- For neighborhoods , no specific reason can be determined for the no shows; it could relate with the transporation,communication, climate change ...etc. (Supplying distances will make the data more powerful.\n",
    "- The no data provided about being paients living individually or getting health care and observed by someone which can give other factor of the no show and make an dependency."
   ]
  },
  {
   "cell_type": "markdown",
   "id": "arctic-literacy",
   "metadata": {},
   "source": [
    "<a id='conclusions'></a>\n",
    "## Conclusions\n"
   ]
  },
  {
   "cell_type": "markdown",
   "id": "agricultural-medicare",
   "metadata": {},
   "source": [
    "### Factors of the No show:\n",
    "  - Scholarship:  people without scholarships are more likely show up for their appointments (It may relate to poverty )\n",
    "    - 11.38% of people with no shows have the scholarship.  \n",
    "    - 8.44% of people who showed up have the scholarship.\n",
    "   \n",
    "  - Waiting periods: is an effective factor on the no show , that people who waits for more than two week more likely to miss their appointment and it is relative to the total number of patients who have the same appointment date.\n",
    "  \n",
    "  - Age: has a poor effect , however, young people are majority for the no shows.\n",
    "  \n",
    "  - Neighborhood: it is an effective factor however there is no enough information:\n",
    "     - Most patients with no shows are from HORTO, ITARARÉ, JESUS DE NAZARETH, GURIGICA,...\n",
    " \n",
    "  \n",
    "### Are diabetics more likely to have hipertension?\n",
    "- Diabetics are most likely to have hipertension\n",
    "- 81.69% of diabetics suffer from hipertension\n",
    "\n",
    "### Are alcoholics more likely to have hipertension?\n",
    "- 42.53% of paients who suffer from alcoholism suffer from Hipertension\n",
    "- 5.15% of hipertension patients are alcoholics\n",
    "\n",
    "### Are Handicapped patients less likely to have alcoholism?\n",
    "- 96.37% of handicapped patients don't get alcohol\n",
    "- 2.37% of alcoholics  having a handicap\n",
    "\n",
    "### Are diabetics more likely to have alcoholism?\n",
    "- 3.87% of Diabetics suffer from alcoholism\n",
    "- 11.4% of alcoholics suffer from diabetes.\n",
    "\n",
    "\n",
    "  "
   ]
  },
  {
   "cell_type": "code",
   "execution_count": null,
   "id": "incorrect-accommodation",
   "metadata": {},
   "outputs": [],
   "source": []
  }
 ],
 "metadata": {
  "kernelspec": {
   "display_name": "Python 3",
   "language": "python",
   "name": "python3"
  },
  "language_info": {
   "codemirror_mode": {
    "name": "ipython",
    "version": 3
   },
   "file_extension": ".py",
   "mimetype": "text/x-python",
   "name": "python",
   "nbconvert_exporter": "python",
   "pygments_lexer": "ipython3",
   "version": "3.13.1"
  }
 },
 "nbformat": 4,
 "nbformat_minor": 5
}
